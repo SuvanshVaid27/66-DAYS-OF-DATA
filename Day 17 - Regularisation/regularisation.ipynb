{
 "cells": [
  {
   "cell_type": "markdown",
   "metadata": {},
   "source": [
    "# Understanding difference between Lasso, Ridge and Elastic Net regression. "
   ]
  },
  {
   "cell_type": "markdown",
   "metadata": {},
   "source": [
    "__Regularization__, which is a form of regression, constrains/ regularizes or shrinks the coefficient estimates towards zero. The main aim of regularization is to reduce the model complexity and reduce overfitting that may result from LinearRegression. There are many types of Regularization techniques, however Rigde and Lasso (L2 and L1 respectively) regresssion are the two most commonly used."
   ]
  },
  {
   "cell_type": "markdown",
   "metadata": {},
   "source": [
    "In __Ridge__ (L2) regression, the cost function is altered by adding a penalty equivalent to square of the magnitude of the coefficients. Whereas in __Lasso__ (L1) regression, the penalty is just the magnitude of coefficients. If that was not enough, we even have a third kind of regularization known as __Elastic Net__ Regression which combines Lasso and Ridge regression to get the best of both worlds."
   ]
  },
  {
   "attachments": {
    "1_-LydhQEDyg-4yy5hGEj5wA.png": {
     "image/png": "[encoded data removed]"
    }
   },
   "cell_type": "markdown",
   "metadata": {},
   "source": [
    "![1_-LydhQEDyg-4yy5hGEj5wA.png](attachment:1_-LydhQEDyg-4yy5hGEj5wA.png)"
   ]
  },
  {
   "cell_type": "markdown",
   "metadata": {},
   "source": [
    "In this small demonstration, we would try to understand the difference between the 3 types of regularizations discussed above. "
   ]
  },
  {
   "cell_type": "code",
   "execution_count": 4,
   "metadata": {},
   "outputs": [
    {
     "name": "stderr",
     "output_type": "stream",
     "text": [
      "Loading required package: Matrix\n",
      "\n",
      "Loaded glmnet 4.1-1\n",
      "\n"
     ]
    }
   ],
   "source": [
    "library(glmnet)"
   ]
  },
  {
   "cell_type": "markdown",
   "metadata": {},
   "source": [
    "# Example 1\n",
    "\n",
    "4985 useless variables in the model, only 15 that are useful.\n",
    "\n",
    "Also, not much data relative to the number of parameters.\n",
    "\n",
    "1,000 samples and 5,000 parameters."
   ]
  },
  {
   "cell_type": "code",
   "execution_count": 5,
   "metadata": {},
   "outputs": [],
   "source": [
    "set.seed(42)  # Set seed for reproducibility\n",
    "\n",
    "n <- 1000  # Number of observations\n",
    "p <- 5000  # Number of predictors included in model\n",
    "real_p <- 15  # Number of true predictors\n",
    "\n",
    "## Generate the data\n",
    "x <- matrix(rnorm(n*p), nrow=n, ncol=p)\n",
    "y <- apply(x[,1:real_p], 1, sum) + rnorm(n) # Creates a vector y that is dependant on the first 15 columns in x. "
   ]
  },
  {
   "cell_type": "code",
   "execution_count": 6,
   "metadata": {},
   "outputs": [],
   "source": [
    "## Split data into training and testing datasets.\n",
    "## 2/3rds of the data will be used for Training and 1/3 of the\n",
    "## data will be used for Testing.\n",
    "train_rows <- sample(1:n, .66*n)\n",
    "x.train <- x[train_rows, ]\n",
    "x.test <- x[-train_rows, ]\n",
    "\n",
    "y.train <- y[train_rows]\n",
    "y.test <- y[-train_rows]"
   ]
  },
  {
   "cell_type": "markdown",
   "metadata": {},
   "source": [
    "We would now apply Ridge, lasso and Elastic Net regression on the datasets created above using the `glmnet` function which implements various regularisers (e.g. $\\ell_1$, $\\ell_2$, and a combination of the two which is called the \"elastic net\"). "
   ]
  },
  {
   "cell_type": "markdown",
   "metadata": {},
   "source": [
    "## Ridge Regression\n",
    "\n",
    "For the inital step of `Ridge regression`, we would use the `cv.glmnet` function to fit a model to the training data to use cross validation to obtain optimal values for the `lambda`. By default, the `cv.glmnet` function uses 10 fold cross validation. "
   ]
  },
  {
   "cell_type": "code",
   "execution_count": 9,
   "metadata": {},
   "outputs": [],
   "source": [
    "alpha0.fit <- cv.glmnet(x.train, y.train, # unlike glm we cannot use `~` here\n",
    "                        type.measure=\"mse\", #mean squared error\n",
    "                        alpha=0, # for ridge regression\n",
    "                        family=\"gaussian\") # for linear regression (for logistic set to `binomial`)"
   ]
  },
  {
   "cell_type": "markdown",
   "metadata": {},
   "source": [
    "Now let's run the Testing dataset on the model created for alpha = 0 (i.e. Ridge Regression)."
   ]
  },
  {
   "cell_type": "code",
   "execution_count": 10,
   "metadata": {},
   "outputs": [],
   "source": [
    "alpha0.predicted <- \n",
    "  predict(alpha0.fit, \n",
    "          s=alpha0.fit$lambda.1se, # correspond to lambda i.e. size of the penalty. \n",
    "          newx=x.test # testing dataset)"
   ]
  },
  {
   "cell_type": "markdown",
   "metadata": {},
   "source": [
    "Here, `lambda.1se` is the value for lambda that results in the simplest model such that the cross validation error is within one standard error of the minimum.If we wanted to to specify the lambda that results in the\n",
    "model with the minimum cross valdiation error, not a model within one SE of of the minimum, we would \n",
    "set 's' to `lambda.min`. To keep things consistant when we compare different alphas, it makes sense to use `lambda.1se` all the time.\n",
    "\n",
    "Now, let's calculate the Mean Squared Error (MSE) for the model created for alpha = 0."
   ]
  },
  {
   "cell_type": "code",
   "execution_count": 11,
   "metadata": {},
   "outputs": [
    {
     "data": {
      "text/html": [
       "14.8845879708177"
      ],
      "text/latex": [
       "14.8845879708177"
      ],
      "text/markdown": [
       "14.8845879708177"
      ],
      "text/plain": [
       "[1] 14.88459"
      ]
     },
     "metadata": {},
     "output_type": "display_data"
    }
   ],
   "source": [
    "mean((y.test - alpha0.predicted)^2)"
   ]
  },
  {
   "cell_type": "markdown",
   "metadata": {},
   "source": [
    "## Lasso Regression\n",
    "\n",
    "We perform steps similar to above, only here we set the alpha value to 1 for `Lasso Regression`."
   ]
  },
  {
   "cell_type": "code",
   "execution_count": 12,
   "metadata": {},
   "outputs": [
    {
     "data": {
      "text/html": [
       "1.18470051333262"
      ],
      "text/latex": [
       "1.18470051333262"
      ],
      "text/markdown": [
       "1.18470051333262"
      ],
      "text/plain": [
       "[1] 1.184701"
      ]
     },
     "metadata": {},
     "output_type": "display_data"
    }
   ],
   "source": [
    "alpha1.fit <- cv.glmnet(x.train, y.train, type.measure=\"mse\", \n",
    "  alpha=1, family=\"gaussian\")\n",
    "\n",
    "alpha1.predicted <- \n",
    "  predict(alpha1.fit, s=alpha1.fit$lambda.1se, newx=x.test)\n",
    "\n",
    "mean((y.test - alpha1.predicted)^2)"
   ]
  },
  {
   "cell_type": "markdown",
   "metadata": {},
   "source": [
    "We can see how we were able to significantly drop the mean squared error when introducing `Lasso regression`. "
   ]
  },
  {
   "cell_type": "markdown",
   "metadata": {},
   "source": [
    "## Elastic-Net Regression\n",
    "\n",
    "Finally, to perform the `Elastic-Net regression`, we set `alpha = 0.5`, a 50/50 mixture of Ridge and Lasso Regression. "
   ]
  },
  {
   "cell_type": "code",
   "execution_count": 13,
   "metadata": {},
   "outputs": [
    {
     "data": {
      "text/html": [
       "1.23796959961713"
      ],
      "text/latex": [
       "1.23796959961713"
      ],
      "text/markdown": [
       "1.23796959961713"
      ],
      "text/plain": [
       "[1] 1.23797"
      ]
     },
     "metadata": {},
     "output_type": "display_data"
    }
   ],
   "source": [
    "alpha0.5.fit <- cv.glmnet(x.train, y.train, type.measure=\"mse\", \n",
    "  alpha=0.5, family=\"gaussian\")\n",
    "\n",
    "alpha0.5.predicted <- \n",
    "  predict(alpha0.5.fit, s=alpha0.5.fit$lambda.1se, newx=x.test)\n",
    "\n",
    "mean((y.test - alpha0.5.predicted)^2)"
   ]
  },
  {
   "cell_type": "markdown",
   "metadata": {},
   "source": [
    "Not bad at all! So, we can clearly see how in this use case, it's best if we use either Lasso or Elastic-Net regression to ensure minimum error. However, rather than deciding on the value of alpha on our own, we can use `cross-validation` to find optimal value of `lambda` for different values of `alpha` (alpha = 0, 0.1, 0.2 .... ,1.0)"
   ]
  },
  {
   "cell_type": "markdown",
   "metadata": {},
   "source": [
    "## Performing Cross validation for alpha"
   ]
  },
  {
   "cell_type": "code",
   "execution_count": 14,
   "metadata": {},
   "outputs": [],
   "source": [
    "list.of.fits <- list()\n",
    "for (i in 0:10) {\n",
    "\n",
    "  fit.name <- paste0(\"alpha\", i/10)\n",
    "  \n",
    "    list.of.fits[[fit.name]] <-\n",
    "    cv.glmnet(x.train, y.train, type.measure=\"mse\", alpha=i/10, \n",
    "      family=\"gaussian\")\n",
    "}"
   ]
  },
  {
   "cell_type": "markdown",
   "metadata": {},
   "source": [
    "Now we see which alpha (0, 0.1, ... , 0.9, 1) does the best job predicting the values in the Testing dataset."
   ]
  },
  {
   "cell_type": "code",
   "execution_count": 15,
   "metadata": {},
   "outputs": [
    {
     "data": {
      "text/html": [
       "<table>\n",
       "<caption>A data.frame: 11 × 3</caption>\n",
       "<thead>\n",
       "\t<tr><th scope=col>alpha</th><th scope=col>mse</th><th scope=col>fit.name</th></tr>\n",
       "\t<tr><th scope=col>&lt;dbl&gt;</th><th scope=col>&lt;dbl&gt;</th><th scope=col>&lt;chr&gt;</th></tr>\n",
       "</thead>\n",
       "<tbody>\n",
       "\t<tr><td>0.0</td><td>14.918840</td><td>alpha0  </td></tr>\n",
       "\t<tr><td>0.1</td><td> 2.256924</td><td>alpha0.1</td></tr>\n",
       "\t<tr><td>0.2</td><td> 1.472927</td><td>alpha0.2</td></tr>\n",
       "\t<tr><td>0.3</td><td> 1.362394</td><td>alpha0.3</td></tr>\n",
       "\t<tr><td>0.4</td><td> 1.259794</td><td>alpha0.4</td></tr>\n",
       "\t<tr><td>0.5</td><td> 1.252103</td><td>alpha0.5</td></tr>\n",
       "\t<tr><td>0.6</td><td> 1.253330</td><td>alpha0.6</td></tr>\n",
       "\t<tr><td>0.7</td><td> 1.212927</td><td>alpha0.7</td></tr>\n",
       "\t<tr><td>0.8</td><td> 1.184028</td><td>alpha0.8</td></tr>\n",
       "\t<tr><td>0.9</td><td> 1.182919</td><td>alpha0.9</td></tr>\n",
       "\t<tr><td>1.0</td><td> 1.184701</td><td>alpha1  </td></tr>\n",
       "</tbody>\n",
       "</table>\n"
      ],
      "text/latex": [
       "A data.frame: 11 × 3\n",
       "\\begin{tabular}{lll}\n",
       " alpha & mse & fit.name\\\\\n",
       " <dbl> & <dbl> & <chr>\\\\\n",
       "\\hline\n",
       "\t 0.0 & 14.918840 & alpha0  \\\\\n",
       "\t 0.1 &  2.256924 & alpha0.1\\\\\n",
       "\t 0.2 &  1.472927 & alpha0.2\\\\\n",
       "\t 0.3 &  1.362394 & alpha0.3\\\\\n",
       "\t 0.4 &  1.259794 & alpha0.4\\\\\n",
       "\t 0.5 &  1.252103 & alpha0.5\\\\\n",
       "\t 0.6 &  1.253330 & alpha0.6\\\\\n",
       "\t 0.7 &  1.212927 & alpha0.7\\\\\n",
       "\t 0.8 &  1.184028 & alpha0.8\\\\\n",
       "\t 0.9 &  1.182919 & alpha0.9\\\\\n",
       "\t 1.0 &  1.184701 & alpha1  \\\\\n",
       "\\end{tabular}\n"
      ],
      "text/markdown": [
       "\n",
       "A data.frame: 11 × 3\n",
       "\n",
       "| alpha &lt;dbl&gt; | mse &lt;dbl&gt; | fit.name &lt;chr&gt; |\n",
       "|---|---|---|\n",
       "| 0.0 | 14.918840 | alpha0   |\n",
       "| 0.1 |  2.256924 | alpha0.1 |\n",
       "| 0.2 |  1.472927 | alpha0.2 |\n",
       "| 0.3 |  1.362394 | alpha0.3 |\n",
       "| 0.4 |  1.259794 | alpha0.4 |\n",
       "| 0.5 |  1.252103 | alpha0.5 |\n",
       "| 0.6 |  1.253330 | alpha0.6 |\n",
       "| 0.7 |  1.212927 | alpha0.7 |\n",
       "| 0.8 |  1.184028 | alpha0.8 |\n",
       "| 0.9 |  1.182919 | alpha0.9 |\n",
       "| 1.0 |  1.184701 | alpha1   |\n",
       "\n"
      ],
      "text/plain": [
       "   alpha mse       fit.name\n",
       "1  0.0   14.918840 alpha0  \n",
       "2  0.1    2.256924 alpha0.1\n",
       "3  0.2    1.472927 alpha0.2\n",
       "4  0.3    1.362394 alpha0.3\n",
       "5  0.4    1.259794 alpha0.4\n",
       "6  0.5    1.252103 alpha0.5\n",
       "7  0.6    1.253330 alpha0.6\n",
       "8  0.7    1.212927 alpha0.7\n",
       "9  0.8    1.184028 alpha0.8\n",
       "10 0.9    1.182919 alpha0.9\n",
       "11 1.0    1.184701 alpha1  "
      ]
     },
     "metadata": {},
     "output_type": "display_data"
    }
   ],
   "source": [
    "results <- data.frame()\n",
    "for (i in 0:10) {\n",
    "  fit.name <- paste0(\"alpha\", i/10)\n",
    "  \n",
    "  ## Use each model to predict 'y' given the Testing dataset\n",
    "  predicted <- \n",
    "    predict(list.of.fits[[fit.name]], \n",
    "      s=list.of.fits[[fit.name]]$lambda.1se, newx=x.test)\n",
    "  \n",
    "  ## Calculate the Mean Squared Error...\n",
    "  mse <- mean((y.test - predicted)^2)\n",
    "  \n",
    "  ## Store the results\n",
    "  temp <- data.frame(alpha=i/10, mse=mse, fit.name=fit.name)\n",
    "  results <- rbind(results, temp)\n",
    "}\n",
    "\n",
    "## View the results\n",
    "results"
   ]
  },
  {
   "cell_type": "markdown",
   "metadata": {},
   "source": [
    "# Example 2 \n",
    "\n",
    "3500 useless variables, 1500 useful (so lots of useful variables)\n",
    "\n",
    "1,000 samples and 5,000 parameters"
   ]
  },
  {
   "cell_type": "markdown",
   "metadata": {},
   "source": [
    "## Preparing data\n",
    "\n",
    "Similar to the Example 1, we prepare our training and testing data, only in this case we have relatively more number of useful variables!"
   ]
  },
  {
   "cell_type": "code",
   "execution_count": 16,
   "metadata": {},
   "outputs": [],
   "source": [
    "set.seed(42) # Set seed for reproducibility\n",
    "\n",
    "n <- 1000    # Number of observations\n",
    "p <- 5000     # Number of predictors included in model\n",
    "real_p <- 1500  # Number of true predictors\n",
    "\n",
    "## Generate the data\n",
    "x <- matrix(rnorm(n*p), nrow=n, ncol=p)\n",
    "y <- apply(x[,1:real_p], 1, sum) + rnorm(n)\n",
    "\n",
    "# Split data into train (2/3) and test (1/3) sets\n",
    "train_rows <- sample(1:n, .66*n)\n",
    "x.train <- x[train_rows, ]\n",
    "x.test <- x[-train_rows, ]\n",
    "\n",
    "y.train <- y[train_rows]\n",
    "y.test <- y[-train_rows]"
   ]
  },
  {
   "cell_type": "markdown",
   "metadata": {},
   "source": [
    "## Using Cross-validation to find the best fit. "
   ]
  },
  {
   "cell_type": "code",
   "execution_count": 17,
   "metadata": {},
   "outputs": [
    {
     "data": {
      "text/html": [
       "<table>\n",
       "<caption>A data.frame: 11 × 3</caption>\n",
       "<thead>\n",
       "\t<tr><th scope=col>alpha</th><th scope=col>mse</th><th scope=col>fit.name</th></tr>\n",
       "\t<tr><th scope=col>&lt;dbl&gt;</th><th scope=col>&lt;dbl&gt;</th><th scope=col>&lt;chr&gt;</th></tr>\n",
       "</thead>\n",
       "<tbody>\n",
       "\t<tr><td>0.0</td><td>1400.375</td><td>alpha0  </td></tr>\n",
       "\t<tr><td>0.1</td><td>1545.035</td><td>alpha0.1</td></tr>\n",
       "\t<tr><td>0.2</td><td>1545.035</td><td>alpha0.2</td></tr>\n",
       "\t<tr><td>0.3</td><td>1545.035</td><td>alpha0.3</td></tr>\n",
       "\t<tr><td>0.4</td><td>1545.035</td><td>alpha0.4</td></tr>\n",
       "\t<tr><td>0.5</td><td>1545.035</td><td>alpha0.5</td></tr>\n",
       "\t<tr><td>0.6</td><td>1545.035</td><td>alpha0.6</td></tr>\n",
       "\t<tr><td>0.7</td><td>1545.035</td><td>alpha0.7</td></tr>\n",
       "\t<tr><td>0.8</td><td>1545.035</td><td>alpha0.8</td></tr>\n",
       "\t<tr><td>0.9</td><td>1545.035</td><td>alpha0.9</td></tr>\n",
       "\t<tr><td>1.0</td><td>1545.035</td><td>alpha1  </td></tr>\n",
       "</tbody>\n",
       "</table>\n"
      ],
      "text/latex": [
       "A data.frame: 11 × 3\n",
       "\\begin{tabular}{lll}\n",
       " alpha & mse & fit.name\\\\\n",
       " <dbl> & <dbl> & <chr>\\\\\n",
       "\\hline\n",
       "\t 0.0 & 1400.375 & alpha0  \\\\\n",
       "\t 0.1 & 1545.035 & alpha0.1\\\\\n",
       "\t 0.2 & 1545.035 & alpha0.2\\\\\n",
       "\t 0.3 & 1545.035 & alpha0.3\\\\\n",
       "\t 0.4 & 1545.035 & alpha0.4\\\\\n",
       "\t 0.5 & 1545.035 & alpha0.5\\\\\n",
       "\t 0.6 & 1545.035 & alpha0.6\\\\\n",
       "\t 0.7 & 1545.035 & alpha0.7\\\\\n",
       "\t 0.8 & 1545.035 & alpha0.8\\\\\n",
       "\t 0.9 & 1545.035 & alpha0.9\\\\\n",
       "\t 1.0 & 1545.035 & alpha1  \\\\\n",
       "\\end{tabular}\n"
      ],
      "text/markdown": [
       "\n",
       "A data.frame: 11 × 3\n",
       "\n",
       "| alpha &lt;dbl&gt; | mse &lt;dbl&gt; | fit.name &lt;chr&gt; |\n",
       "|---|---|---|\n",
       "| 0.0 | 1400.375 | alpha0   |\n",
       "| 0.1 | 1545.035 | alpha0.1 |\n",
       "| 0.2 | 1545.035 | alpha0.2 |\n",
       "| 0.3 | 1545.035 | alpha0.3 |\n",
       "| 0.4 | 1545.035 | alpha0.4 |\n",
       "| 0.5 | 1545.035 | alpha0.5 |\n",
       "| 0.6 | 1545.035 | alpha0.6 |\n",
       "| 0.7 | 1545.035 | alpha0.7 |\n",
       "| 0.8 | 1545.035 | alpha0.8 |\n",
       "| 0.9 | 1545.035 | alpha0.9 |\n",
       "| 1.0 | 1545.035 | alpha1   |\n",
       "\n"
      ],
      "text/plain": [
       "   alpha mse      fit.name\n",
       "1  0.0   1400.375 alpha0  \n",
       "2  0.1   1545.035 alpha0.1\n",
       "3  0.2   1545.035 alpha0.2\n",
       "4  0.3   1545.035 alpha0.3\n",
       "5  0.4   1545.035 alpha0.4\n",
       "6  0.5   1545.035 alpha0.5\n",
       "7  0.6   1545.035 alpha0.6\n",
       "8  0.7   1545.035 alpha0.7\n",
       "9  0.8   1545.035 alpha0.8\n",
       "10 0.9   1545.035 alpha0.9\n",
       "11 1.0   1545.035 alpha1  "
      ]
     },
     "metadata": {},
     "output_type": "display_data"
    }
   ],
   "source": [
    "list.of.fits <- list()\n",
    "for (i in 0:10) {\n",
    "  fit.name <- paste0(\"alpha\", i/10)\n",
    "  \n",
    "  list.of.fits[[fit.name]] <-\n",
    "    cv.glmnet(x.train, y.train, type.measure=\"mse\", alpha=i/10, \n",
    "      family=\"gaussian\")\n",
    "}\n",
    "\n",
    "results <- data.frame()\n",
    "for (i in 0:10) {\n",
    "  fit.name <- paste0(\"alpha\", i/10)\n",
    "  \n",
    "  predicted <- \n",
    "    predict(list.of.fits[[fit.name]], \n",
    "      s=list.of.fits[[fit.name]]$lambda.1se, newx=x.test)\n",
    "  \n",
    "  mse <- mean((y.test - predicted)^2)\n",
    "  \n",
    "  temp <- data.frame(alpha=i/10, mse=mse, fit.name=fit.name)\n",
    "  results <- rbind(results, temp)\n",
    "}\n",
    "\n",
    "results"
   ]
  },
  {
   "cell_type": "markdown",
   "metadata": {},
   "source": [
    "From the results generated above, we can see the value of `alpha = 0` gives us the least MSE. Since in this case we had a lot more useful variables, this use case shows when `Ridge regression` would be the preferred choice of regularization. "
   ]
  },
  {
   "cell_type": "markdown",
   "metadata": {},
   "source": [
    "# Summary \n",
    "\n",
    "While choosing which regularization to use, we need to keep in mind that Elastic Net regression works better when we have correlated parameters, Ridge regression works best when most of the variables in our model are useful and Lasso regression is used when we are aware about the presence of un-important features in our data. Happy learning!"
   ]
  }
 ],
 "metadata": {
  "kernelspec": {
   "display_name": "R",
   "language": "R",
   "name": "ir"
  },
  "language_info": {
   "codemirror_mode": "r",
   "file_extension": ".r",
   "mimetype": "text/x-r-source",
   "name": "R",
   "pygments_lexer": "r",
   "version": "4.0.2"
  }
 },
 "nbformat": 4,
 "nbformat_minor": 4
}
