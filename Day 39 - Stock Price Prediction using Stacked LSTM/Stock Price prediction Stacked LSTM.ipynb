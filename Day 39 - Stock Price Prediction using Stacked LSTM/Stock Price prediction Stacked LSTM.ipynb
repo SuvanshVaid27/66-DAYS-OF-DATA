{
 "cells": [
  {
   "cell_type": "markdown",
   "metadata": {},
   "source": [
    "## Stock Market Prediction And Forecasting Using Stacked LSTM\n",
    "\n",
    "In this mini-project, I have tried to use LSTM for yet another interesting use case that is the prediction of the stock market movement. I have used Stacked LSTM which essentially has multiple hidden LSTM layers where each layer contains multiple memory cells.\n",
    "\n",
    "One of the advantages of using Stacked LSTMs is that the addition of layers adds levels of abstraction of input observations over time, which is why they have been commonly used in challenging sequence prediction problems."
   ]
  },
  {
   "cell_type": "code",
   "execution_count": 64,
   "metadata": {},
   "outputs": [],
   "source": [
    "# Importing Libraries\n",
    "import pandas_datareader as pdr # for data collection from API\n",
    "import pandas as pd # for dataframe operations\n",
    "import numpy as np # for mathematical computations\n",
    "import matplotlib.pyplot as plt # For plotting\n",
    "import math # for math operations\n",
    "from numpy import array\n",
    "from sklearn.preprocessing import MinMaxScaler # For minmax scaling \n",
    "import tensorflow as tf\n",
    "from tensorflow.keras.models import Sequential\n",
    "from tensorflow.keras.layers import Dense\n",
    "from tensorflow.keras.layers import LSTM\n",
    "from sklearn.metrics import mean_squared_error"
   ]
  },
  {
   "cell_type": "code",
   "execution_count": 3,
   "metadata": {},
   "outputs": [],
   "source": [
    "# API key\n",
    "key=''"
   ]
  },
  {
   "cell_type": "code",
   "execution_count": 16,
   "metadata": {},
   "outputs": [
    {
     "data": {
      "text/html": [
       "<div>\n",
       "<style scoped>\n",
       "    .dataframe tbody tr th:only-of-type {\n",
       "        vertical-align: middle;\n",
       "    }\n",
       "\n",
       "    .dataframe tbody tr th {\n",
       "        vertical-align: top;\n",
       "    }\n",
       "\n",
       "    .dataframe thead th {\n",
       "        text-align: right;\n",
       "    }\n",
       "</style>\n",
       "<table border=\"1\" class=\"dataframe\">\n",
       "  <thead>\n",
       "    <tr style=\"text-align: right;\">\n",
       "      <th></th>\n",
       "      <th>symbol</th>\n",
       "      <th>date</th>\n",
       "      <th>close</th>\n",
       "      <th>high</th>\n",
       "      <th>low</th>\n",
       "      <th>open</th>\n",
       "      <th>volume</th>\n",
       "      <th>adjClose</th>\n",
       "      <th>adjHigh</th>\n",
       "      <th>adjLow</th>\n",
       "      <th>adjOpen</th>\n",
       "      <th>adjVolume</th>\n",
       "      <th>divCash</th>\n",
       "      <th>splitFactor</th>\n",
       "    </tr>\n",
       "  </thead>\n",
       "  <tbody>\n",
       "    <tr>\n",
       "      <th>0</th>\n",
       "      <td>MSFT</td>\n",
       "      <td>2016-04-14 00:00:00+00:00</td>\n",
       "      <td>55.36</td>\n",
       "      <td>55.575</td>\n",
       "      <td>55.070</td>\n",
       "      <td>55.22</td>\n",
       "      <td>20877108</td>\n",
       "      <td>50.761318</td>\n",
       "      <td>50.958459</td>\n",
       "      <td>50.495408</td>\n",
       "      <td>50.632948</td>\n",
       "      <td>20877108</td>\n",
       "      <td>0.0</td>\n",
       "      <td>1.0</td>\n",
       "    </tr>\n",
       "    <tr>\n",
       "      <th>1</th>\n",
       "      <td>MSFT</td>\n",
       "      <td>2016-04-15 00:00:00+00:00</td>\n",
       "      <td>55.65</td>\n",
       "      <td>55.920</td>\n",
       "      <td>55.110</td>\n",
       "      <td>55.30</td>\n",
       "      <td>28793753</td>\n",
       "      <td>51.027228</td>\n",
       "      <td>51.274800</td>\n",
       "      <td>50.532086</td>\n",
       "      <td>50.706303</td>\n",
       "      <td>28793753</td>\n",
       "      <td>0.0</td>\n",
       "      <td>1.0</td>\n",
       "    </tr>\n",
       "    <tr>\n",
       "      <th>2</th>\n",
       "      <td>MSFT</td>\n",
       "      <td>2016-04-18 00:00:00+00:00</td>\n",
       "      <td>56.46</td>\n",
       "      <td>56.590</td>\n",
       "      <td>55.210</td>\n",
       "      <td>55.49</td>\n",
       "      <td>23785950</td>\n",
       "      <td>51.769943</td>\n",
       "      <td>51.889144</td>\n",
       "      <td>50.623779</td>\n",
       "      <td>50.880519</td>\n",
       "      <td>23785950</td>\n",
       "      <td>0.0</td>\n",
       "      <td>1.0</td>\n",
       "    </tr>\n",
       "    <tr>\n",
       "      <th>3</th>\n",
       "      <td>MSFT</td>\n",
       "      <td>2016-04-19 00:00:00+00:00</td>\n",
       "      <td>56.39</td>\n",
       "      <td>56.770</td>\n",
       "      <td>55.680</td>\n",
       "      <td>56.63</td>\n",
       "      <td>29596827</td>\n",
       "      <td>51.705758</td>\n",
       "      <td>52.054192</td>\n",
       "      <td>51.054736</td>\n",
       "      <td>51.925821</td>\n",
       "      <td>29596827</td>\n",
       "      <td>0.0</td>\n",
       "      <td>1.0</td>\n",
       "    </tr>\n",
       "    <tr>\n",
       "      <th>4</th>\n",
       "      <td>MSFT</td>\n",
       "      <td>2016-04-20 00:00:00+00:00</td>\n",
       "      <td>55.59</td>\n",
       "      <td>56.500</td>\n",
       "      <td>55.485</td>\n",
       "      <td>56.29</td>\n",
       "      <td>36195714</td>\n",
       "      <td>50.972213</td>\n",
       "      <td>51.806620</td>\n",
       "      <td>50.875935</td>\n",
       "      <td>51.614065</td>\n",
       "      <td>36195714</td>\n",
       "      <td>0.0</td>\n",
       "      <td>1.0</td>\n",
       "    </tr>\n",
       "  </tbody>\n",
       "</table>\n",
       "</div>"
      ],
      "text/plain": [
       "  symbol                       date  close    high     low   open    volume  \\\n",
       "0   MSFT  2016-04-14 00:00:00+00:00  55.36  55.575  55.070  55.22  20877108   \n",
       "1   MSFT  2016-04-15 00:00:00+00:00  55.65  55.920  55.110  55.30  28793753   \n",
       "2   MSFT  2016-04-18 00:00:00+00:00  56.46  56.590  55.210  55.49  23785950   \n",
       "3   MSFT  2016-04-19 00:00:00+00:00  56.39  56.770  55.680  56.63  29596827   \n",
       "4   MSFT  2016-04-20 00:00:00+00:00  55.59  56.500  55.485  56.29  36195714   \n",
       "\n",
       "    adjClose    adjHigh     adjLow    adjOpen  adjVolume  divCash  splitFactor  \n",
       "0  50.761318  50.958459  50.495408  50.632948   20877108      0.0          1.0  \n",
       "1  51.027228  51.274800  50.532086  50.706303   28793753      0.0          1.0  \n",
       "2  51.769943  51.889144  50.623779  50.880519   23785950      0.0          1.0  \n",
       "3  51.705758  52.054192  51.054736  51.925821   29596827      0.0          1.0  \n",
       "4  50.972213  51.806620  50.875935  51.614065   36195714      0.0          1.0  "
      ]
     },
     "execution_count": 16,
     "metadata": {},
     "output_type": "execute_result"
    }
   ],
   "source": [
    "# Collecting the End-of-Day prices for MICROSOFT (`MSFT`)\n",
    "df = pdr.get_data_tiingo('MSFT', api_key=key)\n",
    "\n",
    "df.to_csv('MSFT.csv') # Storing data in a csv file\n",
    "\n",
    "df=pd.read_csv('MSFT.csv') # reading data in a pandas dataframe\n",
    "\n",
    "df.head()"
   ]
  },
  {
   "cell_type": "code",
   "execution_count": 17,
   "metadata": {},
   "outputs": [
    {
     "data": {
      "text/html": [
       "<div>\n",
       "<style scoped>\n",
       "    .dataframe tbody tr th:only-of-type {\n",
       "        vertical-align: middle;\n",
       "    }\n",
       "\n",
       "    .dataframe tbody tr th {\n",
       "        vertical-align: top;\n",
       "    }\n",
       "\n",
       "    .dataframe thead th {\n",
       "        text-align: right;\n",
       "    }\n",
       "</style>\n",
       "<table border=\"1\" class=\"dataframe\">\n",
       "  <thead>\n",
       "    <tr style=\"text-align: right;\">\n",
       "      <th></th>\n",
       "      <th>symbol</th>\n",
       "      <th>date</th>\n",
       "      <th>close</th>\n",
       "      <th>high</th>\n",
       "      <th>low</th>\n",
       "      <th>open</th>\n",
       "      <th>volume</th>\n",
       "      <th>adjClose</th>\n",
       "      <th>adjHigh</th>\n",
       "      <th>adjLow</th>\n",
       "      <th>adjOpen</th>\n",
       "      <th>adjVolume</th>\n",
       "      <th>divCash</th>\n",
       "      <th>splitFactor</th>\n",
       "    </tr>\n",
       "  </thead>\n",
       "  <tbody>\n",
       "    <tr>\n",
       "      <th>1252</th>\n",
       "      <td>MSFT</td>\n",
       "      <td>2021-04-06 00:00:00+00:00</td>\n",
       "      <td>247.86</td>\n",
       "      <td>249.400</td>\n",
       "      <td>246.88</td>\n",
       "      <td>247.61</td>\n",
       "      <td>22931923</td>\n",
       "      <td>247.86</td>\n",
       "      <td>249.400</td>\n",
       "      <td>246.88</td>\n",
       "      <td>247.61</td>\n",
       "      <td>22931923</td>\n",
       "      <td>0.0</td>\n",
       "      <td>1.0</td>\n",
       "    </tr>\n",
       "    <tr>\n",
       "      <th>1253</th>\n",
       "      <td>MSFT</td>\n",
       "      <td>2021-04-07 00:00:00+00:00</td>\n",
       "      <td>249.90</td>\n",
       "      <td>250.930</td>\n",
       "      <td>247.19</td>\n",
       "      <td>247.81</td>\n",
       "      <td>22719835</td>\n",
       "      <td>249.90</td>\n",
       "      <td>250.930</td>\n",
       "      <td>247.19</td>\n",
       "      <td>247.81</td>\n",
       "      <td>22719835</td>\n",
       "      <td>0.0</td>\n",
       "      <td>1.0</td>\n",
       "    </tr>\n",
       "    <tr>\n",
       "      <th>1254</th>\n",
       "      <td>MSFT</td>\n",
       "      <td>2021-04-08 00:00:00+00:00</td>\n",
       "      <td>253.25</td>\n",
       "      <td>254.139</td>\n",
       "      <td>252.00</td>\n",
       "      <td>252.77</td>\n",
       "      <td>23625197</td>\n",
       "      <td>253.25</td>\n",
       "      <td>254.139</td>\n",
       "      <td>252.00</td>\n",
       "      <td>252.77</td>\n",
       "      <td>23625197</td>\n",
       "      <td>0.0</td>\n",
       "      <td>1.0</td>\n",
       "    </tr>\n",
       "    <tr>\n",
       "      <th>1255</th>\n",
       "      <td>MSFT</td>\n",
       "      <td>2021-04-09 00:00:00+00:00</td>\n",
       "      <td>255.85</td>\n",
       "      <td>255.990</td>\n",
       "      <td>252.44</td>\n",
       "      <td>252.87</td>\n",
       "      <td>24326833</td>\n",
       "      <td>255.85</td>\n",
       "      <td>255.990</td>\n",
       "      <td>252.44</td>\n",
       "      <td>252.87</td>\n",
       "      <td>24326833</td>\n",
       "      <td>0.0</td>\n",
       "      <td>1.0</td>\n",
       "    </tr>\n",
       "    <tr>\n",
       "      <th>1256</th>\n",
       "      <td>MSFT</td>\n",
       "      <td>2021-04-12 00:00:00+00:00</td>\n",
       "      <td>255.91</td>\n",
       "      <td>257.670</td>\n",
       "      <td>254.62</td>\n",
       "      <td>254.71</td>\n",
       "      <td>27148668</td>\n",
       "      <td>255.91</td>\n",
       "      <td>257.670</td>\n",
       "      <td>254.62</td>\n",
       "      <td>254.71</td>\n",
       "      <td>27148668</td>\n",
       "      <td>0.0</td>\n",
       "      <td>1.0</td>\n",
       "    </tr>\n",
       "  </tbody>\n",
       "</table>\n",
       "</div>"
      ],
      "text/plain": [
       "     symbol                       date   close     high     low    open  \\\n",
       "1252   MSFT  2021-04-06 00:00:00+00:00  247.86  249.400  246.88  247.61   \n",
       "1253   MSFT  2021-04-07 00:00:00+00:00  249.90  250.930  247.19  247.81   \n",
       "1254   MSFT  2021-04-08 00:00:00+00:00  253.25  254.139  252.00  252.77   \n",
       "1255   MSFT  2021-04-09 00:00:00+00:00  255.85  255.990  252.44  252.87   \n",
       "1256   MSFT  2021-04-12 00:00:00+00:00  255.91  257.670  254.62  254.71   \n",
       "\n",
       "        volume  adjClose  adjHigh  adjLow  adjOpen  adjVolume  divCash  \\\n",
       "1252  22931923    247.86  249.400  246.88   247.61   22931923      0.0   \n",
       "1253  22719835    249.90  250.930  247.19   247.81   22719835      0.0   \n",
       "1254  23625197    253.25  254.139  252.00   252.77   23625197      0.0   \n",
       "1255  24326833    255.85  255.990  252.44   252.87   24326833      0.0   \n",
       "1256  27148668    255.91  257.670  254.62   254.71   27148668      0.0   \n",
       "\n",
       "      splitFactor  \n",
       "1252          1.0  \n",
       "1253          1.0  \n",
       "1254          1.0  \n",
       "1255          1.0  \n",
       "1256          1.0  "
      ]
     },
     "execution_count": 17,
     "metadata": {},
     "output_type": "execute_result"
    }
   ],
   "source": [
    "df.tail()"
   ]
  },
  {
   "cell_type": "markdown",
   "metadata": {},
   "source": [
    "Here, we will try to build a model on the closing price which is denoted by the `close` column in the data."
   ]
  },
  {
   "cell_type": "code",
   "execution_count": 18,
   "metadata": {},
   "outputs": [
    {
     "data": {
      "text/plain": [
       "0        55.36\n",
       "1        55.65\n",
       "2        56.46\n",
       "3        56.39\n",
       "4        55.59\n",
       "         ...  \n",
       "1252    247.86\n",
       "1253    249.90\n",
       "1254    253.25\n",
       "1255    255.85\n",
       "1256    255.91\n",
       "Name: close, Length: 1257, dtype: float64"
      ]
     },
     "execution_count": 18,
     "metadata": {},
     "output_type": "execute_result"
    }
   ],
   "source": [
    "df1=df.reset_index()['close']\n",
    "\n",
    "df1"
   ]
  },
  {
   "cell_type": "code",
   "execution_count": 20,
   "metadata": {},
   "outputs": [
    {
     "data": {
      "text/plain": [
       "[<matplotlib.lines.Line2D at 0x7fcec8098760>]"
      ]
     },
     "execution_count": 20,
     "metadata": {},
     "output_type": "execute_result"
    },
    {
     "data": {
      "image/png": "[encoded data removed]",
      "text/plain": [
       "<Figure size 432x288 with 1 Axes>"
      ]
     },
     "metadata": {
      "needs_background": "light"
     },
     "output_type": "display_data"
    }
   ],
   "source": [
    "# Plotting the close price\n",
    "plt.plot(df1)"
   ]
  },
  {
   "cell_type": "markdown",
   "metadata": {},
   "source": [
    "Please note that LSTMs are sensitive to the scale of the data, so we will apply MinMax scaler technique to standardize the data."
   ]
  },
  {
   "cell_type": "code",
   "execution_count": 23,
   "metadata": {},
   "outputs": [],
   "source": [
    "# Using minmaxscaler to scale close price values\n",
    "scaler=MinMaxScaler(feature_range=(0,1))\n",
    "df1=scaler.fit_transform(np.array(df1).reshape(-1,1))"
   ]
  },
  {
   "cell_type": "code",
   "execution_count": 24,
   "metadata": {},
   "outputs": [
    {
     "name": "stdout",
     "output_type": "stream",
     "text": [
      "[[0.03340081]\n",
      " [0.03479853]\n",
      " [0.03870253]\n",
      " ...\n",
      " [0.98717949]\n",
      " [0.99971082]\n",
      " [1.        ]]\n"
     ]
    }
   ],
   "source": [
    "print(df1)"
   ]
  },
  {
   "cell_type": "code",
   "execution_count": 25,
   "metadata": {},
   "outputs": [],
   "source": [
    "# Splitting dataset into train and test split\n",
    "training_size=int(len(df1)*0.65)\n",
    "test_size=len(df1)-training_size\n",
    "train_data,test_data=df1[0:training_size,:],df1[training_size:len(df1),:1]"
   ]
  },
  {
   "cell_type": "code",
   "execution_count": 26,
   "metadata": {},
   "outputs": [
    {
     "data": {
      "text/plain": [
       "(817, 440)"
      ]
     },
     "execution_count": 26,
     "metadata": {},
     "output_type": "execute_result"
    }
   ],
   "source": [
    "training_size,test_size"
   ]
  },
  {
   "cell_type": "code",
   "execution_count": 27,
   "metadata": {},
   "outputs": [
    {
     "data": {
      "text/plain": [
       "array([[0.03340081],\n",
       "       [0.03479853],\n",
       "       [0.03870253],\n",
       "       [0.03836514],\n",
       "       [0.03450935]])"
      ]
     },
     "execution_count": 27,
     "metadata": {},
     "output_type": "execute_result"
    }
   ],
   "source": [
    "train_data[:5]"
   ]
  },
  {
   "cell_type": "markdown",
   "metadata": {},
   "source": [
    "Given below is one of the most important step in this forecasting process where we create X and Y data from the given data based on the timestamp. "
   ]
  },
  {
   "cell_type": "code",
   "execution_count": 28,
   "metadata": {},
   "outputs": [],
   "source": [
    "# convert an array of values into a dataset matrix\n",
    "def create_dataset(dataset, time_step=1):\n",
    "    dataX, dataY = [], []\n",
    "    for i in range(len(dataset)-time_step-1):\n",
    "        a = dataset[i:(i+time_step), 0]   # For example i=0 will have 0,1,2,3-----99 -> x & 100 -> y\n",
    "        dataX.append(a)\n",
    "        dataY.append(dataset[i + time_step, 0])\n",
    "    \n",
    "    return np.array(dataX), np.array(dataY)"
   ]
  },
  {
   "cell_type": "code",
   "execution_count": 39,
   "metadata": {},
   "outputs": [],
   "source": [
    "time_step = 100 # reshape into X=t,t+1,t+2,t+3....t+99 and Y=t+100\n",
    "\n",
    "X_train, y_train = create_dataset(train_data, time_step)\n",
    "X_test, ytest = create_dataset(test_data, time_step)"
   ]
  },
  {
   "cell_type": "code",
   "execution_count": 40,
   "metadata": {},
   "outputs": [
    {
     "name": "stdout",
     "output_type": "stream",
     "text": [
      "(716, 100)\n",
      "(716,)\n"
     ]
    },
    {
     "data": {
      "text/plain": [
       "(None, None)"
      ]
     },
     "execution_count": 40,
     "metadata": {},
     "output_type": "execute_result"
    }
   ],
   "source": [
    "print(X_train.shape), print(y_train.shape)"
   ]
  },
  {
   "cell_type": "code",
   "execution_count": 41,
   "metadata": {},
   "outputs": [
    {
     "name": "stdout",
     "output_type": "stream",
     "text": [
      "(339, 100)\n",
      "(339,)\n"
     ]
    },
    {
     "data": {
      "text/plain": [
       "(None, None)"
      ]
     },
     "execution_count": 41,
     "metadata": {},
     "output_type": "execute_result"
    }
   ],
   "source": [
    "print(X_test.shape), print(ytest.shape)"
   ]
  },
  {
   "cell_type": "code",
   "execution_count": 43,
   "metadata": {},
   "outputs": [],
   "source": [
    "# reshape input to be [samples, time steps, features] which is required for LSTM\n",
    "X_train =X_train.reshape(X_train.shape[0],X_train.shape[1] , 1)\n",
    "X_test = X_test.reshape(X_test.shape[0],X_test.shape[1] , 1)"
   ]
  },
  {
   "cell_type": "code",
   "execution_count": 45,
   "metadata": {},
   "outputs": [
    {
     "name": "stdout",
     "output_type": "stream",
     "text": [
      "(716, 100, 1)\n",
      "(339, 100, 1)\n"
     ]
    },
    {
     "data": {
      "text/plain": [
       "(None, None)"
      ]
     },
     "execution_count": 45,
     "metadata": {},
     "output_type": "execute_result"
    }
   ],
   "source": [
    "print(X_train.shape), print(X_test.shape)"
   ]
  },
  {
   "cell_type": "code",
   "execution_count": 47,
   "metadata": {},
   "outputs": [],
   "source": [
    "# Create the Stacked LSTM model\n",
    "model=Sequential()\n",
    "model.add(LSTM(50,return_sequences=True,input_shape=(100,1)))\n",
    "model.add(LSTM(50,return_sequences=True))\n",
    "model.add(LSTM(50))\n",
    "model.add(Dense(1))\n",
    "model.compile(loss='mean_squared_error',optimizer='adam')"
   ]
  },
  {
   "cell_type": "code",
   "execution_count": 48,
   "metadata": {},
   "outputs": [
    {
     "name": "stdout",
     "output_type": "stream",
     "text": [
      "Model: \"sequential\"\n",
      "_________________________________________________________________\n",
      "Layer (type)                 Output Shape              Param #   \n",
      "=================================================================\n",
      "lstm (LSTM)                  (None, 100, 50)           10400     \n",
      "_________________________________________________________________\n",
      "lstm_1 (LSTM)                (None, 100, 50)           20200     \n",
      "_________________________________________________________________\n",
      "lstm_2 (LSTM)                (None, 50)                20200     \n",
      "_________________________________________________________________\n",
      "dense (Dense)                (None, 1)                 51        \n",
      "=================================================================\n",
      "Total params: 50,851\n",
      "Trainable params: 50,851\n",
      "Non-trainable params: 0\n",
      "_________________________________________________________________\n"
     ]
    }
   ],
   "source": [
    "model.summary()"
   ]
  },
  {
   "cell_type": "code",
   "execution_count": 51,
   "metadata": {},
   "outputs": [
    {
     "name": "stdout",
     "output_type": "stream",
     "text": [
      "Epoch 1/100\n",
      "12/12 [==============================] - 5s 192ms/step - loss: 0.0306 - val_loss: 0.0875\n",
      "Epoch 2/100\n",
      "12/12 [==============================] - 1s 87ms/step - loss: 0.0036 - val_loss: 0.0083\n",
      "Epoch 3/100\n",
      "12/12 [==============================] - 1s 89ms/step - loss: 0.0011 - val_loss: 0.0038\n",
      "Epoch 4/100\n",
      "12/12 [==============================] - 1s 91ms/step - loss: 3.0378e-04 - val_loss: 0.0028\n",
      "Epoch 5/100\n",
      "12/12 [==============================] - 1s 92ms/step - loss: 2.2248e-04 - val_loss: 0.0026\n",
      "Epoch 6/100\n",
      "12/12 [==============================] - 1s 94ms/step - loss: 1.8508e-04 - val_loss: 0.0021\n",
      "Epoch 7/100\n",
      "12/12 [==============================] - 1s 93ms/step - loss: 1.7894e-04 - val_loss: 0.0021\n",
      "Epoch 8/100\n",
      "12/12 [==============================] - 1s 96ms/step - loss: 1.7246e-04 - val_loss: 0.0021\n",
      "Epoch 9/100\n",
      "12/12 [==============================] - 1s 96ms/step - loss: 2.0147e-04 - val_loss: 0.0021\n",
      "Epoch 10/100\n",
      "12/12 [==============================] - 1s 99ms/step - loss: 1.5285e-04 - val_loss: 0.0024\n",
      "Epoch 11/100\n",
      "12/12 [==============================] - 1s 98ms/step - loss: 1.7364e-04 - val_loss: 0.0025\n",
      "Epoch 12/100\n",
      "12/12 [==============================] - 1s 103ms/step - loss: 1.5743e-04 - val_loss: 0.0020\n",
      "Epoch 13/100\n",
      "12/12 [==============================] - 1s 103ms/step - loss: 1.5384e-04 - val_loss: 0.0021\n",
      "Epoch 14/100\n",
      "12/12 [==============================] - 1s 103ms/step - loss: 1.5739e-04 - val_loss: 0.0020\n",
      "Epoch 15/100\n",
      "12/12 [==============================] - 1s 104ms/step - loss: 1.7756e-04 - val_loss: 0.0020\n",
      "Epoch 16/100\n",
      "12/12 [==============================] - 1s 105ms/step - loss: 1.7010e-04 - val_loss: 0.0025\n",
      "Epoch 17/100\n",
      "12/12 [==============================] - 1s 106ms/step - loss: 1.9603e-04 - val_loss: 0.0020\n",
      "Epoch 18/100\n",
      "12/12 [==============================] - 1s 107ms/step - loss: 1.6483e-04 - val_loss: 0.0020\n",
      "Epoch 19/100\n",
      "12/12 [==============================] - 1s 108ms/step - loss: 1.8799e-04 - val_loss: 0.0027\n",
      "Epoch 20/100\n",
      "12/12 [==============================] - 1s 120ms/step - loss: 2.0468e-04 - val_loss: 0.0033\n",
      "Epoch 21/100\n",
      "12/12 [==============================] - 1s 118ms/step - loss: 1.9636e-04 - val_loss: 0.0020\n",
      "Epoch 22/100\n",
      "12/12 [==============================] - 1s 113ms/step - loss: 1.6880e-04 - val_loss: 0.0020\n",
      "Epoch 23/100\n",
      "12/12 [==============================] - 1s 115ms/step - loss: 1.9684e-04 - val_loss: 0.0022\n",
      "Epoch 24/100\n",
      "12/12 [==============================] - 1s 115ms/step - loss: 1.9778e-04 - val_loss: 0.0025\n",
      "Epoch 25/100\n",
      "12/12 [==============================] - 1s 115ms/step - loss: 1.6287e-04 - val_loss: 0.0020\n",
      "Epoch 26/100\n",
      "12/12 [==============================] - 1s 118ms/step - loss: 2.2072e-04 - val_loss: 0.0027\n",
      "Epoch 27/100\n",
      "12/12 [==============================] - 1s 117ms/step - loss: 2.0639e-04 - val_loss: 0.0024\n",
      "Epoch 28/100\n",
      "12/12 [==============================] - 1s 117ms/step - loss: 1.7410e-04 - val_loss: 0.0019\n",
      "Epoch 29/100\n",
      "12/12 [==============================] - 1s 117ms/step - loss: 1.7024e-04 - val_loss: 0.0019\n",
      "Epoch 30/100\n",
      "12/12 [==============================] - 1s 119ms/step - loss: 1.5788e-04 - val_loss: 0.0019\n",
      "Epoch 31/100\n",
      "12/12 [==============================] - 1s 120ms/step - loss: 1.6246e-04 - val_loss: 0.0022\n",
      "Epoch 32/100\n",
      "12/12 [==============================] - 1s 119ms/step - loss: 1.4843e-04 - val_loss: 0.0018\n",
      "Epoch 33/100\n",
      "12/12 [==============================] - 1s 122ms/step - loss: 1.6637e-04 - val_loss: 0.0024\n",
      "Epoch 34/100\n",
      "12/12 [==============================] - 1s 121ms/step - loss: 1.6986e-04 - val_loss: 0.0019\n",
      "Epoch 35/100\n",
      "12/12 [==============================] - 1s 121ms/step - loss: 1.7684e-04 - val_loss: 0.0030\n",
      "Epoch 36/100\n",
      "12/12 [==============================] - 1s 123ms/step - loss: 1.6540e-04 - val_loss: 0.0018\n",
      "Epoch 37/100\n",
      "12/12 [==============================] - 1s 125ms/step - loss: 1.5969e-04 - val_loss: 0.0018\n",
      "Epoch 38/100\n",
      "12/12 [==============================] - 2s 126ms/step - loss: 1.6990e-04 - val_loss: 0.0020\n",
      "Epoch 39/100\n",
      "12/12 [==============================] - 1s 126ms/step - loss: 1.5956e-04 - val_loss: 0.0020\n",
      "Epoch 40/100\n",
      "12/12 [==============================] - 1s 126ms/step - loss: 1.3668e-04 - val_loss: 0.0020\n",
      "Epoch 41/100\n",
      "12/12 [==============================] - 2s 127ms/step - loss: 1.4657e-04 - val_loss: 0.0018\n",
      "Epoch 42/100\n",
      "12/12 [==============================] - 2s 130ms/step - loss: 1.3450e-04 - val_loss: 0.0018\n",
      "Epoch 43/100\n",
      "12/12 [==============================] - 2s 130ms/step - loss: 1.4179e-04 - val_loss: 0.0017\n",
      "Epoch 44/100\n",
      "12/12 [==============================] - 2s 129ms/step - loss: 1.3730e-04 - val_loss: 0.0028\n",
      "Epoch 45/100\n",
      "12/12 [==============================] - 2s 127ms/step - loss: 1.7151e-04 - val_loss: 0.0017\n",
      "Epoch 46/100\n",
      "12/12 [==============================] - 2s 127ms/step - loss: 1.4392e-04 - val_loss: 0.0017\n",
      "Epoch 47/100\n",
      "12/12 [==============================] - 2s 129ms/step - loss: 1.3755e-04 - val_loss: 0.0018\n",
      "Epoch 48/100\n",
      "12/12 [==============================] - 2s 129ms/step - loss: 1.4270e-04 - val_loss: 0.0021\n",
      "Epoch 49/100\n",
      "12/12 [==============================] - 2s 142ms/step - loss: 1.6416e-04 - val_loss: 0.0016\n",
      "Epoch 50/100\n",
      "12/12 [==============================] - 2s 155ms/step - loss: 1.4485e-04 - val_loss: 0.0016\n",
      "Epoch 51/100\n",
      "12/12 [==============================] - 2s 154ms/step - loss: 1.4016e-04 - val_loss: 0.0017\n",
      "Epoch 52/100\n",
      "12/12 [==============================] - 2s 156ms/step - loss: 1.3029e-04 - val_loss: 0.0018\n",
      "Epoch 53/100\n",
      "12/12 [==============================] - 2s 159ms/step - loss: 1.5390e-04 - val_loss: 0.0016\n",
      "Epoch 54/100\n",
      "12/12 [==============================] - 2s 156ms/step - loss: 1.5546e-04 - val_loss: 0.0018\n",
      "Epoch 55/100\n",
      "12/12 [==============================] - 2s 157ms/step - loss: 1.9973e-04 - val_loss: 0.0023\n",
      "Epoch 56/100\n",
      "12/12 [==============================] - 2s 158ms/step - loss: 1.4710e-04 - val_loss: 0.0015\n",
      "Epoch 57/100\n",
      "12/12 [==============================] - 2s 157ms/step - loss: 1.5199e-04 - val_loss: 0.0015\n",
      "Epoch 58/100\n",
      "12/12 [==============================] - 2s 158ms/step - loss: 1.4305e-04 - val_loss: 0.0015\n",
      "Epoch 59/100\n",
      "12/12 [==============================] - 2s 156ms/step - loss: 1.2859e-04 - val_loss: 0.0017\n",
      "Epoch 60/100\n",
      "12/12 [==============================] - 2s 137ms/step - loss: 1.3992e-04 - val_loss: 0.0015\n",
      "Epoch 61/100\n",
      "12/12 [==============================] - 2s 130ms/step - loss: 1.5323e-04 - val_loss: 0.0015\n",
      "Epoch 62/100\n",
      "12/12 [==============================] - 2s 131ms/step - loss: 1.5196e-04 - val_loss: 0.0015\n",
      "Epoch 63/100\n",
      "12/12 [==============================] - 2s 131ms/step - loss: 1.6033e-04 - val_loss: 0.0015\n",
      "Epoch 64/100\n",
      "12/12 [==============================] - 2s 132ms/step - loss: 1.4000e-04 - val_loss: 0.0015\n",
      "Epoch 65/100\n",
      "12/12 [==============================] - 2s 131ms/step - loss: 1.3774e-04 - val_loss: 0.0017\n",
      "Epoch 66/100\n",
      "12/12 [==============================] - 2s 132ms/step - loss: 1.4236e-04 - val_loss: 0.0015\n",
      "Epoch 67/100\n",
      "12/12 [==============================] - 2s 132ms/step - loss: 1.4621e-04 - val_loss: 0.0014\n",
      "Epoch 68/100\n",
      "12/12 [==============================] - 2s 132ms/step - loss: 1.5019e-04 - val_loss: 0.0016\n",
      "Epoch 69/100\n",
      "12/12 [==============================] - 2s 132ms/step - loss: 1.6003e-04 - val_loss: 0.0016\n",
      "Epoch 70/100\n",
      "12/12 [==============================] - 2s 134ms/step - loss: 1.4238e-04 - val_loss: 0.0014\n",
      "Epoch 71/100\n",
      "12/12 [==============================] - 2s 133ms/step - loss: 1.4228e-04 - val_loss: 0.0014\n",
      "Epoch 72/100\n",
      "12/12 [==============================] - 2s 135ms/step - loss: 1.3303e-04 - val_loss: 0.0020\n",
      "Epoch 73/100\n",
      "12/12 [==============================] - 2s 136ms/step - loss: 1.3369e-04 - val_loss: 0.0013\n",
      "Epoch 74/100\n",
      "12/12 [==============================] - 2s 135ms/step - loss: 1.2516e-04 - val_loss: 0.0019\n",
      "Epoch 75/100\n",
      "12/12 [==============================] - 2s 137ms/step - loss: 1.4186e-04 - val_loss: 0.0014\n",
      "Epoch 76/100\n",
      "12/12 [==============================] - 2s 133ms/step - loss: 1.2719e-04 - val_loss: 0.0013\n",
      "Epoch 77/100\n",
      "12/12 [==============================] - 2s 133ms/step - loss: 1.2989e-04 - val_loss: 0.0013\n",
      "Epoch 78/100\n"
     ]
    },
    {
     "name": "stdout",
     "output_type": "stream",
     "text": [
      "12/12 [==============================] - 2s 133ms/step - loss: 1.3263e-04 - val_loss: 0.0012\n",
      "Epoch 79/100\n",
      "12/12 [==============================] - 2s 131ms/step - loss: 1.3985e-04 - val_loss: 0.0014\n",
      "Epoch 80/100\n",
      "12/12 [==============================] - 2s 130ms/step - loss: 1.1915e-04 - val_loss: 0.0012\n",
      "Epoch 81/100\n",
      "12/12 [==============================] - 2s 129ms/step - loss: 1.1028e-04 - val_loss: 0.0013\n",
      "Epoch 82/100\n",
      "12/12 [==============================] - 2s 131ms/step - loss: 1.1617e-04 - val_loss: 0.0013\n",
      "Epoch 83/100\n",
      "12/12 [==============================] - 2s 133ms/step - loss: 1.3726e-04 - val_loss: 0.0012\n",
      "Epoch 84/100\n",
      "12/12 [==============================] - 2s 129ms/step - loss: 1.2726e-04 - val_loss: 0.0012\n",
      "Epoch 85/100\n",
      "12/12 [==============================] - 2s 130ms/step - loss: 1.2602e-04 - val_loss: 0.0015\n",
      "Epoch 86/100\n",
      "12/12 [==============================] - 2s 129ms/step - loss: 1.4418e-04 - val_loss: 0.0011\n",
      "Epoch 87/100\n",
      "12/12 [==============================] - 2s 134ms/step - loss: 1.2078e-04 - val_loss: 0.0011\n",
      "Epoch 88/100\n",
      "12/12 [==============================] - 2s 130ms/step - loss: 1.3179e-04 - val_loss: 0.0011\n",
      "Epoch 89/100\n",
      "12/12 [==============================] - 2s 130ms/step - loss: 1.1477e-04 - val_loss: 0.0012\n",
      "Epoch 90/100\n",
      "12/12 [==============================] - 2s 136ms/step - loss: 1.2533e-04 - val_loss: 0.0012\n",
      "Epoch 91/100\n",
      "12/12 [==============================] - 2s 134ms/step - loss: 1.1248e-04 - val_loss: 0.0012\n",
      "Epoch 92/100\n",
      "12/12 [==============================] - 2s 131ms/step - loss: 1.1156e-04 - val_loss: 0.0011\n",
      "Epoch 93/100\n",
      "12/12 [==============================] - 2s 133ms/step - loss: 1.1175e-04 - val_loss: 0.0010\n",
      "Epoch 94/100\n",
      "12/12 [==============================] - 2s 133ms/step - loss: 1.1474e-04 - val_loss: 0.0015\n",
      "Epoch 95/100\n",
      "12/12 [==============================] - 2s 130ms/step - loss: 1.2131e-04 - val_loss: 0.0011\n",
      "Epoch 96/100\n",
      "12/12 [==============================] - 2s 132ms/step - loss: 1.2551e-04 - val_loss: 0.0015\n",
      "Epoch 97/100\n",
      "12/12 [==============================] - 2s 134ms/step - loss: 1.2749e-04 - val_loss: 0.0011\n",
      "Epoch 98/100\n",
      "12/12 [==============================] - 2s 131ms/step - loss: 1.1213e-04 - val_loss: 0.0012\n",
      "Epoch 99/100\n",
      "12/12 [==============================] - 2s 137ms/step - loss: 1.1071e-04 - val_loss: 0.0010\n",
      "Epoch 100/100\n",
      "12/12 [==============================] - 2s 140ms/step - loss: 1.2217e-04 - val_loss: 0.0012\n"
     ]
    },
    {
     "data": {
      "text/plain": [
       "<tensorflow.python.keras.callbacks.History at 0x7fceb0abfd00>"
      ]
     },
     "execution_count": 51,
     "metadata": {},
     "output_type": "execute_result"
    }
   ],
   "source": [
    "model.fit(X_train,y_train,validation_data=(X_test,ytest),epochs=100,batch_size=64,verbose=1)"
   ]
  },
  {
   "cell_type": "code",
   "execution_count": 52,
   "metadata": {},
   "outputs": [],
   "source": [
    "# Performing predictions and evluating performance metrics\n",
    "train_predict=model.predict(X_train)\n",
    "test_predict=model.predict(X_test)"
   ]
  },
  {
   "cell_type": "code",
   "execution_count": 53,
   "metadata": {},
   "outputs": [],
   "source": [
    "# Transform back to original form\n",
    "train_predict=scaler.inverse_transform(train_predict)\n",
    "test_predict=scaler.inverse_transform(test_predict)"
   ]
  },
  {
   "cell_type": "code",
   "execution_count": 56,
   "metadata": {},
   "outputs": [
    {
     "data": {
      "text/plain": [
       "91.43987305749637"
      ]
     },
     "execution_count": 56,
     "metadata": {},
     "output_type": "execute_result"
    }
   ],
   "source": [
    "# Calculate RMSE performance metric\n",
    "math.sqrt(mean_squared_error(y_train,train_predict))"
   ]
  },
  {
   "cell_type": "code",
   "execution_count": 57,
   "metadata": {},
   "outputs": [
    {
     "data": {
      "text/plain": [
       "197.12575762989218"
      ]
     },
     "execution_count": 57,
     "metadata": {},
     "output_type": "execute_result"
    }
   ],
   "source": [
    "# Test Data RMSE\n",
    "math.sqrt(mean_squared_error(ytest,test_predict))"
   ]
  },
  {
   "cell_type": "code",
   "execution_count": 59,
   "metadata": {},
   "outputs": [
    {
     "data": {
      "image/png": "[encoded data removed]",
      "text/plain": [
       "<Figure size 432x288 with 1 Axes>"
      ]
     },
     "metadata": {
      "needs_background": "light"
     },
     "output_type": "display_data"
    }
   ],
   "source": [
    "### Plotting \n",
    "# shift train predictions for plotting\n",
    "look_back=100\n",
    "trainPredictPlot = np.empty_like(df1)\n",
    "trainPredictPlot[:, :] = np.nan\n",
    "trainPredictPlot[look_back:len(train_predict)+look_back, :] = train_predict\n",
    "# shift test predictions for plotting\n",
    "testPredictPlot = np.empty_like(df1)\n",
    "testPredictPlot[:, :] = np.nan\n",
    "testPredictPlot[len(train_predict)+(look_back*2)+1:len(df1)-1, :] = test_predict\n",
    "# plot baseline and predictions\n",
    "plt.plot(scaler.inverse_transform(df1))\n",
    "plt.plot(trainPredictPlot)\n",
    "plt.plot(testPredictPlot)\n",
    "plt.show()"
   ]
  },
  {
   "cell_type": "code",
   "execution_count": 60,
   "metadata": {},
   "outputs": [
    {
     "data": {
      "text/plain": [
       "440"
      ]
     },
     "execution_count": 60,
     "metadata": {},
     "output_type": "execute_result"
    }
   ],
   "source": [
    "len(test_data)"
   ]
  },
  {
   "cell_type": "code",
   "execution_count": 66,
   "metadata": {},
   "outputs": [
    {
     "data": {
      "text/plain": [
       "(1, 100)"
      ]
     },
     "execution_count": 66,
     "metadata": {},
     "output_type": "execute_result"
    }
   ],
   "source": [
    "x_input=test_data[340:].reshape(1,-1)\n",
    "x_input.shape"
   ]
  },
  {
   "cell_type": "code",
   "execution_count": 67,
   "metadata": {},
   "outputs": [],
   "source": [
    "temp_input=list(x_input)\n",
    "temp_input=temp_input[0].tolist()"
   ]
  },
  {
   "cell_type": "code",
   "execution_count": 68,
   "metadata": {},
   "outputs": [
    {
     "data": {
      "text/plain": [
       "[0.813572392519761,\n",
       " 0.800221708116445,\n",
       " 0.7839309812994025,\n",
       " 0.7903894351262771,\n",
       " 0.7806053595527279]"
      ]
     },
     "execution_count": 68,
     "metadata": {},
     "output_type": "execute_result"
    }
   ],
   "source": [
    "temp_input[:5]"
   ]
  },
  {
   "cell_type": "code",
   "execution_count": 81,
   "metadata": {},
   "outputs": [
    {
     "name": "stdout",
     "output_type": "stream",
     "text": [
      "0 day input [0.90037594 0.88403702 0.9029304  0.9346443  0.96703297 0.96120108\n",
      " 0.97103335 0.98717949 0.99971082 1.         0.96378672 0.97446817\n",
      " 0.97989774 0.98102498 0.97901523 0.97485524 0.96924561 0.96263385\n",
      " 0.95529354 0.9473986  0.93907851 0.93044823 0.92162198 0.91271627\n",
      " 0.90384728 0.89512646 0.88665581 0.87852585 0.8708117  0.8635723\n",
      " 0.85685122 0.85067517 0.84505653 0.83999306 0.8354708  0.83146501\n",
      " 0.82794219 0.8248623  0.82217932 0.81984437 0.81780642 0.81601483\n",
      " 0.81441891 0.81297076 0.81162441 0.81033874 0.80907577 0.80780321\n",
      " 0.80649233 0.80512065 0.80366957 0.80212611 0.80048192 0.79873186\n",
      " 0.79687583 0.79491681 0.79286069 0.79071599 0.7884931  0.78620392\n",
      " 0.7838617  0.78148007 0.77907258 0.77665269 0.77423358 0.77182728\n",
      " 0.7694447  0.76709563 0.76478851 0.76253074 0.76032698 0.75818187\n",
      " 0.75609773 0.75407606 0.7521168  0.75021917 0.7483812  0.74659979\n",
      " 0.74487215 0.74319422 0.74156201 0.73997098 0.73841685 0.73689526\n",
      " 0.73540199 0.73393315 0.73248506 0.73105425 0.7296381  0.72823405\n",
      " 0.7268396  0.7254535  0.72407454 0.72270113 0.72133374 0.71997118\n",
      " 0.71861386 0.71726263 0.71591693 0.71457803]\n",
      "0 day output [[0.7132466]]\n",
      "1 day input [0.88403702 0.9029304  0.9346443  0.96703297 0.96120108 0.97103335\n",
      " 0.98717949 0.99971082 1.         0.96378672 0.97446817 0.97989774\n",
      " 0.98102498 0.97901523 0.97485524 0.96924561 0.96263385 0.95529354\n",
      " 0.9473986  0.93907851 0.93044823 0.92162198 0.91271627 0.90384728\n",
      " 0.89512646 0.88665581 0.87852585 0.8708117  0.8635723  0.85685122\n",
      " 0.85067517 0.84505653 0.83999306 0.8354708  0.83146501 0.82794219\n",
      " 0.8248623  0.82217932 0.81984437 0.81780642 0.81601483 0.81441891\n",
      " 0.81297076 0.81162441 0.81033874 0.80907577 0.80780321 0.80649233\n",
      " 0.80512065 0.80366957 0.80212611 0.80048192 0.79873186 0.79687583\n",
      " 0.79491681 0.79286069 0.79071599 0.7884931  0.78620392 0.7838617\n",
      " 0.78148007 0.77907258 0.77665269 0.77423358 0.77182728 0.7694447\n",
      " 0.76709563 0.76478851 0.76253074 0.76032698 0.75818187 0.75609773\n",
      " 0.75407606 0.7521168  0.75021917 0.7483812  0.74659979 0.74487215\n",
      " 0.74319422 0.74156201 0.73997098 0.73841685 0.73689526 0.73540199\n",
      " 0.73393315 0.73248506 0.73105425 0.7296381  0.72823405 0.7268396\n",
      " 0.7254535  0.72407454 0.72270113 0.72133374 0.71997118 0.71861386\n",
      " 0.71726263 0.71591693 0.71457803 0.71324658]\n",
      "1 day output [[0.71192306]]\n",
      "2 day input [0.9029304  0.9346443  0.96703297 0.96120108 0.97103335 0.98717949\n",
      " 0.99971082 1.         0.96378672 0.97446817 0.97989774 0.98102498\n",
      " 0.97901523 0.97485524 0.96924561 0.96263385 0.95529354 0.9473986\n",
      " 0.93907851 0.93044823 0.92162198 0.91271627 0.90384728 0.89512646\n",
      " 0.88665581 0.87852585 0.8708117  0.8635723  0.85685122 0.85067517\n",
      " 0.84505653 0.83999306 0.8354708  0.83146501 0.82794219 0.8248623\n",
      " 0.82217932 0.81984437 0.81780642 0.81601483 0.81441891 0.81297076\n",
      " 0.81162441 0.81033874 0.80907577 0.80780321 0.80649233 0.80512065\n",
      " 0.80366957 0.80212611 0.80048192 0.79873186 0.79687583 0.79491681\n",
      " 0.79286069 0.79071599 0.7884931  0.78620392 0.7838617  0.78148007\n",
      " 0.77907258 0.77665269 0.77423358 0.77182728 0.7694447  0.76709563\n",
      " 0.76478851 0.76253074 0.76032698 0.75818187 0.75609773 0.75407606\n",
      " 0.7521168  0.75021917 0.7483812  0.74659979 0.74487215 0.74319422\n",
      " 0.74156201 0.73997098 0.73841685 0.73689526 0.73540199 0.73393315\n",
      " 0.73248506 0.73105425 0.7296381  0.72823405 0.7268396  0.7254535\n",
      " 0.72407454 0.72270113 0.72133374 0.71997118 0.71861386 0.71726263\n",
      " 0.71591693 0.71457803 0.71324658 0.71192306]\n",
      "2 day output [[0.7106088]]\n",
      "3 day input [0.9346443  0.96703297 0.96120108 0.97103335 0.98717949 0.99971082\n",
      " 1.         0.96378672 0.97446817 0.97989774 0.98102498 0.97901523\n",
      " 0.97485524 0.96924561 0.96263385 0.95529354 0.9473986  0.93907851\n",
      " 0.93044823 0.92162198 0.91271627 0.90384728 0.89512646 0.88665581\n",
      " 0.87852585 0.8708117  0.8635723  0.85685122 0.85067517 0.84505653\n",
      " 0.83999306 0.8354708  0.83146501 0.82794219 0.8248623  0.82217932\n",
      " 0.81984437 0.81780642 0.81601483 0.81441891 0.81297076 0.81162441\n",
      " 0.81033874 0.80907577 0.80780321 0.80649233 0.80512065 0.80366957\n",
      " 0.80212611 0.80048192 0.79873186 0.79687583 0.79491681 0.79286069\n",
      " 0.79071599 0.7884931  0.78620392 0.7838617  0.78148007 0.77907258\n",
      " 0.77665269 0.77423358 0.77182728 0.7694447  0.76709563 0.76478851\n",
      " 0.76253074 0.76032698 0.75818187 0.75609773 0.75407606 0.7521168\n",
      " 0.75021917 0.7483812  0.74659979 0.74487215 0.74319422 0.74156201\n",
      " 0.73997098 0.73841685 0.73689526 0.73540199 0.73393315 0.73248506\n",
      " 0.73105425 0.7296381  0.72823405 0.7268396  0.7254535  0.72407454\n",
      " 0.72270113 0.72133374 0.71997118 0.71861386 0.71726263 0.71591693\n",
      " 0.71457803 0.71324658 0.71192306 0.71060878]\n",
      "3 day output [[0.70930403]]\n",
      "4 day input [0.96703297 0.96120108 0.97103335 0.98717949 0.99971082 1.\n",
      " 0.96378672 0.97446817 0.97989774 0.98102498 0.97901523 0.97485524\n",
      " 0.96924561 0.96263385 0.95529354 0.9473986  0.93907851 0.93044823\n",
      " 0.92162198 0.91271627 0.90384728 0.89512646 0.88665581 0.87852585\n",
      " 0.8708117  0.8635723  0.85685122 0.85067517 0.84505653 0.83999306\n",
      " 0.8354708  0.83146501 0.82794219 0.8248623  0.82217932 0.81984437\n",
      " 0.81780642 0.81601483 0.81441891 0.81297076 0.81162441 0.81033874\n",
      " 0.80907577 0.80780321 0.80649233 0.80512065 0.80366957 0.80212611\n",
      " 0.80048192 0.79873186 0.79687583 0.79491681 0.79286069 0.79071599\n",
      " 0.7884931  0.78620392 0.7838617  0.78148007 0.77907258 0.77665269\n",
      " 0.77423358 0.77182728 0.7694447  0.76709563 0.76478851 0.76253074\n",
      " 0.76032698 0.75818187 0.75609773 0.75407606 0.7521168  0.75021917\n",
      " 0.7483812  0.74659979 0.74487215 0.74319422 0.74156201 0.73997098\n",
      " 0.73841685 0.73689526 0.73540199 0.73393315 0.73248506 0.73105425\n",
      " 0.7296381  0.72823405 0.7268396  0.7254535  0.72407454 0.72270113\n",
      " 0.72133374 0.71997118 0.71861386 0.71726263 0.71591693 0.71457803\n",
      " 0.71324658 0.71192306 0.71060878 0.70930403]\n",
      "4 day output [[0.7080101]]\n",
      "5 day input [0.96120108 0.97103335 0.98717949 0.99971082 1.         0.96378672\n",
      " 0.97446817 0.97989774 0.98102498 0.97901523 0.97485524 0.96924561\n",
      " 0.96263385 0.95529354 0.9473986  0.93907851 0.93044823 0.92162198\n",
      " 0.91271627 0.90384728 0.89512646 0.88665581 0.87852585 0.8708117\n",
      " 0.8635723  0.85685122 0.85067517 0.84505653 0.83999306 0.8354708\n",
      " 0.83146501 0.82794219 0.8248623  0.82217932 0.81984437 0.81780642\n",
      " 0.81601483 0.81441891 0.81297076 0.81162441 0.81033874 0.80907577\n",
      " 0.80780321 0.80649233 0.80512065 0.80366957 0.80212611 0.80048192\n",
      " 0.79873186 0.79687583 0.79491681 0.79286069 0.79071599 0.7884931\n",
      " 0.78620392 0.7838617  0.78148007 0.77907258 0.77665269 0.77423358\n",
      " 0.77182728 0.7694447  0.76709563 0.76478851 0.76253074 0.76032698\n",
      " 0.75818187 0.75609773 0.75407606 0.7521168  0.75021917 0.7483812\n",
      " 0.74659979 0.74487215 0.74319422 0.74156201 0.73997098 0.73841685\n",
      " 0.73689526 0.73540199 0.73393315 0.73248506 0.73105425 0.7296381\n",
      " 0.72823405 0.7268396  0.7254535  0.72407454 0.72270113 0.72133374\n",
      " 0.71997118 0.71861386 0.71726263 0.71591693 0.71457803 0.71324658\n",
      " 0.71192306 0.71060878 0.70930403 0.70801008]\n",
      "5 day output [[0.7067274]]\n",
      "6 day input [0.97103335 0.98717949 0.99971082 1.         0.96378672 0.97446817\n",
      " 0.97989774 0.98102498 0.97901523 0.97485524 0.96924561 0.96263385\n",
      " 0.95529354 0.9473986  0.93907851 0.93044823 0.92162198 0.91271627\n",
      " 0.90384728 0.89512646 0.88665581 0.87852585 0.8708117  0.8635723\n",
      " 0.85685122 0.85067517 0.84505653 0.83999306 0.8354708  0.83146501\n",
      " 0.82794219 0.8248623  0.82217932 0.81984437 0.81780642 0.81601483\n",
      " 0.81441891 0.81297076 0.81162441 0.81033874 0.80907577 0.80780321\n",
      " 0.80649233 0.80512065 0.80366957 0.80212611 0.80048192 0.79873186\n",
      " 0.79687583 0.79491681 0.79286069 0.79071599 0.7884931  0.78620392\n",
      " 0.7838617  0.78148007 0.77907258 0.77665269 0.77423358 0.77182728\n",
      " 0.7694447  0.76709563 0.76478851 0.76253074 0.76032698 0.75818187\n",
      " 0.75609773 0.75407606 0.7521168  0.75021917 0.7483812  0.74659979\n",
      " 0.74487215 0.74319422 0.74156201 0.73997098 0.73841685 0.73689526\n",
      " 0.73540199 0.73393315 0.73248506 0.73105425 0.7296381  0.72823405\n",
      " 0.7268396  0.7254535  0.72407454 0.72270113 0.72133374 0.71997118\n",
      " 0.71861386 0.71726263 0.71591693 0.71457803 0.71324658 0.71192306\n",
      " 0.71060878 0.70930403 0.70801008 0.70672739]\n",
      "6 day output [[0.7054567]]\n",
      "7 day input [0.98717949 0.99971082 1.         0.96378672 0.97446817 0.97989774\n",
      " 0.98102498 0.97901523 0.97485524 0.96924561 0.96263385 0.95529354\n",
      " 0.9473986  0.93907851 0.93044823 0.92162198 0.91271627 0.90384728\n",
      " 0.89512646 0.88665581 0.87852585 0.8708117  0.8635723  0.85685122\n",
      " 0.85067517 0.84505653 0.83999306 0.8354708  0.83146501 0.82794219\n",
      " 0.8248623  0.82217932 0.81984437 0.81780642 0.81601483 0.81441891\n",
      " 0.81297076 0.81162441 0.81033874 0.80907577 0.80780321 0.80649233\n",
      " 0.80512065 0.80366957 0.80212611 0.80048192 0.79873186 0.79687583\n",
      " 0.79491681 0.79286069 0.79071599 0.7884931  0.78620392 0.7838617\n",
      " 0.78148007 0.77907258 0.77665269 0.77423358 0.77182728 0.7694447\n",
      " 0.76709563 0.76478851 0.76253074 0.76032698 0.75818187 0.75609773\n",
      " 0.75407606 0.7521168  0.75021917 0.7483812  0.74659979 0.74487215\n",
      " 0.74319422 0.74156201 0.73997098 0.73841685 0.73689526 0.73540199\n",
      " 0.73393315 0.73248506 0.73105425 0.7296381  0.72823405 0.7268396\n",
      " 0.7254535  0.72407454 0.72270113 0.72133374 0.71997118 0.71861386\n",
      " 0.71726263 0.71591693 0.71457803 0.71324658 0.71192306 0.71060878\n",
      " 0.70930403 0.70801008 0.70672739 0.70545667]\n",
      "7 day output [[0.7041987]]\n",
      "8 day input [0.99971082 1.         0.96378672 0.97446817 0.97989774 0.98102498\n",
      " 0.97901523 0.97485524 0.96924561 0.96263385 0.95529354 0.9473986\n",
      " 0.93907851 0.93044823 0.92162198 0.91271627 0.90384728 0.89512646\n",
      " 0.88665581 0.87852585 0.8708117  0.8635723  0.85685122 0.85067517\n",
      " 0.84505653 0.83999306 0.8354708  0.83146501 0.82794219 0.8248623\n",
      " 0.82217932 0.81984437 0.81780642 0.81601483 0.81441891 0.81297076\n",
      " 0.81162441 0.81033874 0.80907577 0.80780321 0.80649233 0.80512065\n",
      " 0.80366957 0.80212611 0.80048192 0.79873186 0.79687583 0.79491681\n",
      " 0.79286069 0.79071599 0.7884931  0.78620392 0.7838617  0.78148007\n",
      " 0.77907258 0.77665269 0.77423358 0.77182728 0.7694447  0.76709563\n",
      " 0.76478851 0.76253074 0.76032698 0.75818187 0.75609773 0.75407606\n",
      " 0.7521168  0.75021917 0.7483812  0.74659979 0.74487215 0.74319422\n",
      " 0.74156201 0.73997098 0.73841685 0.73689526 0.73540199 0.73393315\n",
      " 0.73248506 0.73105425 0.7296381  0.72823405 0.7268396  0.7254535\n",
      " 0.72407454 0.72270113 0.72133374 0.71997118 0.71861386 0.71726263\n",
      " 0.71591693 0.71457803 0.71324658 0.71192306 0.71060878 0.70930403\n",
      " 0.70801008 0.70672739 0.70545667 0.70419872]\n",
      "8 day output [[0.7029541]]\n",
      "9 day input [1.         0.96378672 0.97446817 0.97989774 0.98102498 0.97901523\n",
      " 0.97485524 0.96924561 0.96263385 0.95529354 0.9473986  0.93907851\n",
      " 0.93044823 0.92162198 0.91271627 0.90384728 0.89512646 0.88665581\n",
      " 0.87852585 0.8708117  0.8635723  0.85685122 0.85067517 0.84505653\n",
      " 0.83999306 0.8354708  0.83146501 0.82794219 0.8248623  0.82217932\n",
      " 0.81984437 0.81780642 0.81601483 0.81441891 0.81297076 0.81162441\n",
      " 0.81033874 0.80907577 0.80780321 0.80649233 0.80512065 0.80366957\n",
      " 0.80212611 0.80048192 0.79873186 0.79687583 0.79491681 0.79286069\n",
      " 0.79071599 0.7884931  0.78620392 0.7838617  0.78148007 0.77907258\n",
      " 0.77665269 0.77423358 0.77182728 0.7694447  0.76709563 0.76478851\n",
      " 0.76253074 0.76032698 0.75818187 0.75609773 0.75407606 0.7521168\n",
      " 0.75021917 0.7483812  0.74659979 0.74487215 0.74319422 0.74156201\n",
      " 0.73997098 0.73841685 0.73689526 0.73540199 0.73393315 0.73248506\n",
      " 0.73105425 0.7296381  0.72823405 0.7268396  0.7254535  0.72407454\n",
      " 0.72270113 0.72133374 0.71997118 0.71861386 0.71726263 0.71591693\n",
      " 0.71457803 0.71324658 0.71192306 0.71060878 0.70930403 0.70801008\n",
      " 0.70672739 0.70545667 0.70419872 0.70295411]\n",
      "9 day output [[0.7017228]]\n",
      "10 day input [0.96378672 0.97446817 0.97989774 0.98102498 0.97901523 0.97485524\n",
      " 0.96924561 0.96263385 0.95529354 0.9473986  0.93907851 0.93044823\n",
      " 0.92162198 0.91271627 0.90384728 0.89512646 0.88665581 0.87852585\n",
      " 0.8708117  0.8635723  0.85685122 0.85067517 0.84505653 0.83999306\n",
      " 0.8354708  0.83146501 0.82794219 0.8248623  0.82217932 0.81984437\n",
      " 0.81780642 0.81601483 0.81441891 0.81297076 0.81162441 0.81033874\n",
      " 0.80907577 0.80780321 0.80649233 0.80512065 0.80366957 0.80212611\n",
      " 0.80048192 0.79873186 0.79687583 0.79491681 0.79286069 0.79071599\n",
      " 0.7884931  0.78620392 0.7838617  0.78148007 0.77907258 0.77665269\n",
      " 0.77423358 0.77182728 0.7694447  0.76709563 0.76478851 0.76253074\n",
      " 0.76032698 0.75818187 0.75609773 0.75407606 0.7521168  0.75021917\n",
      " 0.7483812  0.74659979 0.74487215 0.74319422 0.74156201 0.73997098\n",
      " 0.73841685 0.73689526 0.73540199 0.73393315 0.73248506 0.73105425\n",
      " 0.7296381  0.72823405 0.7268396  0.7254535  0.72407454 0.72270113\n",
      " 0.72133374 0.71997118 0.71861386 0.71726263 0.71591693 0.71457803\n",
      " 0.71324658 0.71192306 0.71060878 0.70930403 0.70801008 0.70672739\n",
      " 0.70545667 0.70419872 0.70295411 0.7017228 ]\n"
     ]
    },
    {
     "name": "stdout",
     "output_type": "stream",
     "text": [
      "10 day output [[0.7005054]]\n",
      "11 day input [0.97446817 0.97989774 0.98102498 0.97901523 0.97485524 0.96924561\n",
      " 0.96263385 0.95529354 0.9473986  0.93907851 0.93044823 0.92162198\n",
      " 0.91271627 0.90384728 0.89512646 0.88665581 0.87852585 0.8708117\n",
      " 0.8635723  0.85685122 0.85067517 0.84505653 0.83999306 0.8354708\n",
      " 0.83146501 0.82794219 0.8248623  0.82217932 0.81984437 0.81780642\n",
      " 0.81601483 0.81441891 0.81297076 0.81162441 0.81033874 0.80907577\n",
      " 0.80780321 0.80649233 0.80512065 0.80366957 0.80212611 0.80048192\n",
      " 0.79873186 0.79687583 0.79491681 0.79286069 0.79071599 0.7884931\n",
      " 0.78620392 0.7838617  0.78148007 0.77907258 0.77665269 0.77423358\n",
      " 0.77182728 0.7694447  0.76709563 0.76478851 0.76253074 0.76032698\n",
      " 0.75818187 0.75609773 0.75407606 0.7521168  0.75021917 0.7483812\n",
      " 0.74659979 0.74487215 0.74319422 0.74156201 0.73997098 0.73841685\n",
      " 0.73689526 0.73540199 0.73393315 0.73248506 0.73105425 0.7296381\n",
      " 0.72823405 0.7268396  0.7254535  0.72407454 0.72270113 0.72133374\n",
      " 0.71997118 0.71861386 0.71726263 0.71591693 0.71457803 0.71324658\n",
      " 0.71192306 0.71060878 0.70930403 0.70801008 0.70672739 0.70545667\n",
      " 0.70419872 0.70295411 0.7017228  0.70050538]\n",
      "11 day output [[0.69930214]]\n",
      "12 day input [0.97989774 0.98102498 0.97901523 0.97485524 0.96924561 0.96263385\n",
      " 0.95529354 0.9473986  0.93907851 0.93044823 0.92162198 0.91271627\n",
      " 0.90384728 0.89512646 0.88665581 0.87852585 0.8708117  0.8635723\n",
      " 0.85685122 0.85067517 0.84505653 0.83999306 0.8354708  0.83146501\n",
      " 0.82794219 0.8248623  0.82217932 0.81984437 0.81780642 0.81601483\n",
      " 0.81441891 0.81297076 0.81162441 0.81033874 0.80907577 0.80780321\n",
      " 0.80649233 0.80512065 0.80366957 0.80212611 0.80048192 0.79873186\n",
      " 0.79687583 0.79491681 0.79286069 0.79071599 0.7884931  0.78620392\n",
      " 0.7838617  0.78148007 0.77907258 0.77665269 0.77423358 0.77182728\n",
      " 0.7694447  0.76709563 0.76478851 0.76253074 0.76032698 0.75818187\n",
      " 0.75609773 0.75407606 0.7521168  0.75021917 0.7483812  0.74659979\n",
      " 0.74487215 0.74319422 0.74156201 0.73997098 0.73841685 0.73689526\n",
      " 0.73540199 0.73393315 0.73248506 0.73105425 0.7296381  0.72823405\n",
      " 0.7268396  0.7254535  0.72407454 0.72270113 0.72133374 0.71997118\n",
      " 0.71861386 0.71726263 0.71591693 0.71457803 0.71324658 0.71192306\n",
      " 0.71060878 0.70930403 0.70801008 0.70672739 0.70545667 0.70419872\n",
      " 0.70295411 0.7017228  0.70050538 0.69930214]\n",
      "12 day output [[0.6981129]]\n",
      "13 day input [0.98102498 0.97901523 0.97485524 0.96924561 0.96263385 0.95529354\n",
      " 0.9473986  0.93907851 0.93044823 0.92162198 0.91271627 0.90384728\n",
      " 0.89512646 0.88665581 0.87852585 0.8708117  0.8635723  0.85685122\n",
      " 0.85067517 0.84505653 0.83999306 0.8354708  0.83146501 0.82794219\n",
      " 0.8248623  0.82217932 0.81984437 0.81780642 0.81601483 0.81441891\n",
      " 0.81297076 0.81162441 0.81033874 0.80907577 0.80780321 0.80649233\n",
      " 0.80512065 0.80366957 0.80212611 0.80048192 0.79873186 0.79687583\n",
      " 0.79491681 0.79286069 0.79071599 0.7884931  0.78620392 0.7838617\n",
      " 0.78148007 0.77907258 0.77665269 0.77423358 0.77182728 0.7694447\n",
      " 0.76709563 0.76478851 0.76253074 0.76032698 0.75818187 0.75609773\n",
      " 0.75407606 0.7521168  0.75021917 0.7483812  0.74659979 0.74487215\n",
      " 0.74319422 0.74156201 0.73997098 0.73841685 0.73689526 0.73540199\n",
      " 0.73393315 0.73248506 0.73105425 0.7296381  0.72823405 0.7268396\n",
      " 0.7254535  0.72407454 0.72270113 0.72133374 0.71997118 0.71861386\n",
      " 0.71726263 0.71591693 0.71457803 0.71324658 0.71192306 0.71060878\n",
      " 0.70930403 0.70801008 0.70672739 0.70545667 0.70419872 0.70295411\n",
      " 0.7017228  0.70050538 0.69930214 0.69811291]\n",
      "13 day output [[0.6969378]]\n",
      "14 day input [0.97901523 0.97485524 0.96924561 0.96263385 0.95529354 0.9473986\n",
      " 0.93907851 0.93044823 0.92162198 0.91271627 0.90384728 0.89512646\n",
      " 0.88665581 0.87852585 0.8708117  0.8635723  0.85685122 0.85067517\n",
      " 0.84505653 0.83999306 0.8354708  0.83146501 0.82794219 0.8248623\n",
      " 0.82217932 0.81984437 0.81780642 0.81601483 0.81441891 0.81297076\n",
      " 0.81162441 0.81033874 0.80907577 0.80780321 0.80649233 0.80512065\n",
      " 0.80366957 0.80212611 0.80048192 0.79873186 0.79687583 0.79491681\n",
      " 0.79286069 0.79071599 0.7884931  0.78620392 0.7838617  0.78148007\n",
      " 0.77907258 0.77665269 0.77423358 0.77182728 0.7694447  0.76709563\n",
      " 0.76478851 0.76253074 0.76032698 0.75818187 0.75609773 0.75407606\n",
      " 0.7521168  0.75021917 0.7483812  0.74659979 0.74487215 0.74319422\n",
      " 0.74156201 0.73997098 0.73841685 0.73689526 0.73540199 0.73393315\n",
      " 0.73248506 0.73105425 0.7296381  0.72823405 0.7268396  0.7254535\n",
      " 0.72407454 0.72270113 0.72133374 0.71997118 0.71861386 0.71726263\n",
      " 0.71591693 0.71457803 0.71324658 0.71192306 0.71060878 0.70930403\n",
      " 0.70801008 0.70672739 0.70545667 0.70419872 0.70295411 0.7017228\n",
      " 0.70050538 0.69930214 0.69811291 0.6969378 ]\n",
      "14 day output [[0.6957771]]\n",
      "15 day input [0.97485524 0.96924561 0.96263385 0.95529354 0.9473986  0.93907851\n",
      " 0.93044823 0.92162198 0.91271627 0.90384728 0.89512646 0.88665581\n",
      " 0.87852585 0.8708117  0.8635723  0.85685122 0.85067517 0.84505653\n",
      " 0.83999306 0.8354708  0.83146501 0.82794219 0.8248623  0.82217932\n",
      " 0.81984437 0.81780642 0.81601483 0.81441891 0.81297076 0.81162441\n",
      " 0.81033874 0.80907577 0.80780321 0.80649233 0.80512065 0.80366957\n",
      " 0.80212611 0.80048192 0.79873186 0.79687583 0.79491681 0.79286069\n",
      " 0.79071599 0.7884931  0.78620392 0.7838617  0.78148007 0.77907258\n",
      " 0.77665269 0.77423358 0.77182728 0.7694447  0.76709563 0.76478851\n",
      " 0.76253074 0.76032698 0.75818187 0.75609773 0.75407606 0.7521168\n",
      " 0.75021917 0.7483812  0.74659979 0.74487215 0.74319422 0.74156201\n",
      " 0.73997098 0.73841685 0.73689526 0.73540199 0.73393315 0.73248506\n",
      " 0.73105425 0.7296381  0.72823405 0.7268396  0.7254535  0.72407454\n",
      " 0.72270113 0.72133374 0.71997118 0.71861386 0.71726263 0.71591693\n",
      " 0.71457803 0.71324658 0.71192306 0.71060878 0.70930403 0.70801008\n",
      " 0.70672739 0.70545667 0.70419872 0.70295411 0.7017228  0.70050538\n",
      " 0.69930214 0.69811291 0.6969378  0.69577712]\n",
      "15 day output [[0.6946301]]\n",
      "16 day input [0.96924561 0.96263385 0.95529354 0.9473986  0.93907851 0.93044823\n",
      " 0.92162198 0.91271627 0.90384728 0.89512646 0.88665581 0.87852585\n",
      " 0.8708117  0.8635723  0.85685122 0.85067517 0.84505653 0.83999306\n",
      " 0.8354708  0.83146501 0.82794219 0.8248623  0.82217932 0.81984437\n",
      " 0.81780642 0.81601483 0.81441891 0.81297076 0.81162441 0.81033874\n",
      " 0.80907577 0.80780321 0.80649233 0.80512065 0.80366957 0.80212611\n",
      " 0.80048192 0.79873186 0.79687583 0.79491681 0.79286069 0.79071599\n",
      " 0.7884931  0.78620392 0.7838617  0.78148007 0.77907258 0.77665269\n",
      " 0.77423358 0.77182728 0.7694447  0.76709563 0.76478851 0.76253074\n",
      " 0.76032698 0.75818187 0.75609773 0.75407606 0.7521168  0.75021917\n",
      " 0.7483812  0.74659979 0.74487215 0.74319422 0.74156201 0.73997098\n",
      " 0.73841685 0.73689526 0.73540199 0.73393315 0.73248506 0.73105425\n",
      " 0.7296381  0.72823405 0.7268396  0.7254535  0.72407454 0.72270113\n",
      " 0.72133374 0.71997118 0.71861386 0.71726263 0.71591693 0.71457803\n",
      " 0.71324658 0.71192306 0.71060878 0.70930403 0.70801008 0.70672739\n",
      " 0.70545667 0.70419872 0.70295411 0.7017228  0.70050538 0.69930214\n",
      " 0.69811291 0.6969378  0.69577712 0.69463009]\n",
      "16 day output [[0.6934966]]\n",
      "17 day input [0.96263385 0.95529354 0.9473986  0.93907851 0.93044823 0.92162198\n",
      " 0.91271627 0.90384728 0.89512646 0.88665581 0.87852585 0.8708117\n",
      " 0.8635723  0.85685122 0.85067517 0.84505653 0.83999306 0.8354708\n",
      " 0.83146501 0.82794219 0.8248623  0.82217932 0.81984437 0.81780642\n",
      " 0.81601483 0.81441891 0.81297076 0.81162441 0.81033874 0.80907577\n",
      " 0.80780321 0.80649233 0.80512065 0.80366957 0.80212611 0.80048192\n",
      " 0.79873186 0.79687583 0.79491681 0.79286069 0.79071599 0.7884931\n",
      " 0.78620392 0.7838617  0.78148007 0.77907258 0.77665269 0.77423358\n",
      " 0.77182728 0.7694447  0.76709563 0.76478851 0.76253074 0.76032698\n",
      " 0.75818187 0.75609773 0.75407606 0.7521168  0.75021917 0.7483812\n",
      " 0.74659979 0.74487215 0.74319422 0.74156201 0.73997098 0.73841685\n",
      " 0.73689526 0.73540199 0.73393315 0.73248506 0.73105425 0.7296381\n",
      " 0.72823405 0.7268396  0.7254535  0.72407454 0.72270113 0.72133374\n",
      " 0.71997118 0.71861386 0.71726263 0.71591693 0.71457803 0.71324658\n",
      " 0.71192306 0.71060878 0.70930403 0.70801008 0.70672739 0.70545667\n",
      " 0.70419872 0.70295411 0.7017228  0.70050538 0.69930214 0.69811291\n",
      " 0.6969378  0.69577712 0.69463009 0.69349658]\n",
      "17 day output [[0.6923768]]\n",
      "18 day input [0.95529354 0.9473986  0.93907851 0.93044823 0.92162198 0.91271627\n",
      " 0.90384728 0.89512646 0.88665581 0.87852585 0.8708117  0.8635723\n",
      " 0.85685122 0.85067517 0.84505653 0.83999306 0.8354708  0.83146501\n",
      " 0.82794219 0.8248623  0.82217932 0.81984437 0.81780642 0.81601483\n",
      " 0.81441891 0.81297076 0.81162441 0.81033874 0.80907577 0.80780321\n",
      " 0.80649233 0.80512065 0.80366957 0.80212611 0.80048192 0.79873186\n",
      " 0.79687583 0.79491681 0.79286069 0.79071599 0.7884931  0.78620392\n",
      " 0.7838617  0.78148007 0.77907258 0.77665269 0.77423358 0.77182728\n",
      " 0.7694447  0.76709563 0.76478851 0.76253074 0.76032698 0.75818187\n",
      " 0.75609773 0.75407606 0.7521168  0.75021917 0.7483812  0.74659979\n",
      " 0.74487215 0.74319422 0.74156201 0.73997098 0.73841685 0.73689526\n",
      " 0.73540199 0.73393315 0.73248506 0.73105425 0.7296381  0.72823405\n",
      " 0.7268396  0.7254535  0.72407454 0.72270113 0.72133374 0.71997118\n",
      " 0.71861386 0.71726263 0.71591693 0.71457803 0.71324658 0.71192306\n",
      " 0.71060878 0.70930403 0.70801008 0.70672739 0.70545667 0.70419872\n",
      " 0.70295411 0.7017228  0.70050538 0.69930214 0.69811291 0.6969378\n",
      " 0.69577712 0.69463009 0.69349658 0.69237679]\n",
      "18 day output [[0.6912698]]\n",
      "19 day input [0.9473986  0.93907851 0.93044823 0.92162198 0.91271627 0.90384728\n",
      " 0.89512646 0.88665581 0.87852585 0.8708117  0.8635723  0.85685122\n",
      " 0.85067517 0.84505653 0.83999306 0.8354708  0.83146501 0.82794219\n",
      " 0.8248623  0.82217932 0.81984437 0.81780642 0.81601483 0.81441891\n",
      " 0.81297076 0.81162441 0.81033874 0.80907577 0.80780321 0.80649233\n",
      " 0.80512065 0.80366957 0.80212611 0.80048192 0.79873186 0.79687583\n",
      " 0.79491681 0.79286069 0.79071599 0.7884931  0.78620392 0.7838617\n",
      " 0.78148007 0.77907258 0.77665269 0.77423358 0.77182728 0.7694447\n",
      " 0.76709563 0.76478851 0.76253074 0.76032698 0.75818187 0.75609773\n",
      " 0.75407606 0.7521168  0.75021917 0.7483812  0.74659979 0.74487215\n",
      " 0.74319422 0.74156201 0.73997098 0.73841685 0.73689526 0.73540199\n",
      " 0.73393315 0.73248506 0.73105425 0.7296381  0.72823405 0.7268396\n",
      " 0.7254535  0.72407454 0.72270113 0.72133374 0.71997118 0.71861386\n",
      " 0.71726263 0.71591693 0.71457803 0.71324658 0.71192306 0.71060878\n",
      " 0.70930403 0.70801008 0.70672739 0.70545667 0.70419872 0.70295411\n",
      " 0.7017228  0.70050538 0.69930214 0.69811291 0.6969378  0.69577712\n",
      " 0.69463009 0.69349658 0.69237679 0.69126981]\n",
      "19 day output [[0.6901758]]\n",
      "20 day input [0.93907851 0.93044823 0.92162198 0.91271627 0.90384728 0.89512646\n",
      " 0.88665581 0.87852585 0.8708117  0.8635723  0.85685122 0.85067517\n",
      " 0.84505653 0.83999306 0.8354708  0.83146501 0.82794219 0.8248623\n",
      " 0.82217932 0.81984437 0.81780642 0.81601483 0.81441891 0.81297076\n",
      " 0.81162441 0.81033874 0.80907577 0.80780321 0.80649233 0.80512065\n",
      " 0.80366957 0.80212611 0.80048192 0.79873186 0.79687583 0.79491681\n",
      " 0.79286069 0.79071599 0.7884931  0.78620392 0.7838617  0.78148007\n",
      " 0.77907258 0.77665269 0.77423358 0.77182728 0.7694447  0.76709563\n",
      " 0.76478851 0.76253074 0.76032698 0.75818187 0.75609773 0.75407606\n",
      " 0.7521168  0.75021917 0.7483812  0.74659979 0.74487215 0.74319422\n",
      " 0.74156201 0.73997098 0.73841685 0.73689526 0.73540199 0.73393315\n",
      " 0.73248506 0.73105425 0.7296381  0.72823405 0.7268396  0.7254535\n",
      " 0.72407454 0.72270113 0.72133374 0.71997118 0.71861386 0.71726263\n",
      " 0.71591693 0.71457803 0.71324658 0.71192306 0.71060878 0.70930403\n",
      " 0.70801008 0.70672739 0.70545667 0.70419872 0.70295411 0.7017228\n",
      " 0.70050538 0.69930214 0.69811291 0.6969378  0.69577712 0.69463009\n",
      " 0.69349658 0.69237679 0.69126981 0.69017577]\n",
      "20 day output [[0.6890938]]\n",
      "21 day input [0.93044823 0.92162198 0.91271627 0.90384728 0.89512646 0.88665581\n",
      " 0.87852585 0.8708117  0.8635723  0.85685122 0.85067517 0.84505653\n",
      " 0.83999306 0.8354708  0.83146501 0.82794219 0.8248623  0.82217932\n",
      " 0.81984437 0.81780642 0.81601483 0.81441891 0.81297076 0.81162441\n",
      " 0.81033874 0.80907577 0.80780321 0.80649233 0.80512065 0.80366957\n",
      " 0.80212611 0.80048192 0.79873186 0.79687583 0.79491681 0.79286069\n",
      " 0.79071599 0.7884931  0.78620392 0.7838617  0.78148007 0.77907258\n",
      " 0.77665269 0.77423358 0.77182728 0.7694447  0.76709563 0.76478851\n",
      " 0.76253074 0.76032698 0.75818187 0.75609773 0.75407606 0.7521168\n",
      " 0.75021917 0.7483812  0.74659979 0.74487215 0.74319422 0.74156201\n",
      " 0.73997098 0.73841685 0.73689526 0.73540199 0.73393315 0.73248506\n",
      " 0.73105425 0.7296381  0.72823405 0.7268396  0.7254535  0.72407454\n",
      " 0.72270113 0.72133374 0.71997118 0.71861386 0.71726263 0.71591693\n",
      " 0.71457803 0.71324658 0.71192306 0.71060878 0.70930403 0.70801008\n",
      " 0.70672739 0.70545667 0.70419872 0.70295411 0.7017228  0.70050538\n",
      " 0.69930214 0.69811291 0.6969378  0.69577712 0.69463009 0.69349658\n",
      " 0.69237679 0.69126981 0.69017577 0.68909383]\n"
     ]
    },
    {
     "name": "stdout",
     "output_type": "stream",
     "text": [
      "21 day output [[0.6880239]]\n",
      "22 day input [0.92162198 0.91271627 0.90384728 0.89512646 0.88665581 0.87852585\n",
      " 0.8708117  0.8635723  0.85685122 0.85067517 0.84505653 0.83999306\n",
      " 0.8354708  0.83146501 0.82794219 0.8248623  0.82217932 0.81984437\n",
      " 0.81780642 0.81601483 0.81441891 0.81297076 0.81162441 0.81033874\n",
      " 0.80907577 0.80780321 0.80649233 0.80512065 0.80366957 0.80212611\n",
      " 0.80048192 0.79873186 0.79687583 0.79491681 0.79286069 0.79071599\n",
      " 0.7884931  0.78620392 0.7838617  0.78148007 0.77907258 0.77665269\n",
      " 0.77423358 0.77182728 0.7694447  0.76709563 0.76478851 0.76253074\n",
      " 0.76032698 0.75818187 0.75609773 0.75407606 0.7521168  0.75021917\n",
      " 0.7483812  0.74659979 0.74487215 0.74319422 0.74156201 0.73997098\n",
      " 0.73841685 0.73689526 0.73540199 0.73393315 0.73248506 0.73105425\n",
      " 0.7296381  0.72823405 0.7268396  0.7254535  0.72407454 0.72270113\n",
      " 0.72133374 0.71997118 0.71861386 0.71726263 0.71591693 0.71457803\n",
      " 0.71324658 0.71192306 0.71060878 0.70930403 0.70801008 0.70672739\n",
      " 0.70545667 0.70419872 0.70295411 0.7017228  0.70050538 0.69930214\n",
      " 0.69811291 0.6969378  0.69577712 0.69463009 0.69349658 0.69237679\n",
      " 0.69126981 0.69017577 0.68909383 0.68802392]\n",
      "22 day output [[0.68696535]]\n",
      "23 day input [0.91271627 0.90384728 0.89512646 0.88665581 0.87852585 0.8708117\n",
      " 0.8635723  0.85685122 0.85067517 0.84505653 0.83999306 0.8354708\n",
      " 0.83146501 0.82794219 0.8248623  0.82217932 0.81984437 0.81780642\n",
      " 0.81601483 0.81441891 0.81297076 0.81162441 0.81033874 0.80907577\n",
      " 0.80780321 0.80649233 0.80512065 0.80366957 0.80212611 0.80048192\n",
      " 0.79873186 0.79687583 0.79491681 0.79286069 0.79071599 0.7884931\n",
      " 0.78620392 0.7838617  0.78148007 0.77907258 0.77665269 0.77423358\n",
      " 0.77182728 0.7694447  0.76709563 0.76478851 0.76253074 0.76032698\n",
      " 0.75818187 0.75609773 0.75407606 0.7521168  0.75021917 0.7483812\n",
      " 0.74659979 0.74487215 0.74319422 0.74156201 0.73997098 0.73841685\n",
      " 0.73689526 0.73540199 0.73393315 0.73248506 0.73105425 0.7296381\n",
      " 0.72823405 0.7268396  0.7254535  0.72407454 0.72270113 0.72133374\n",
      " 0.71997118 0.71861386 0.71726263 0.71591693 0.71457803 0.71324658\n",
      " 0.71192306 0.71060878 0.70930403 0.70801008 0.70672739 0.70545667\n",
      " 0.70419872 0.70295411 0.7017228  0.70050538 0.69930214 0.69811291\n",
      " 0.6969378  0.69577712 0.69463009 0.69349658 0.69237679 0.69126981\n",
      " 0.69017577 0.68909383 0.68802392 0.68696535]\n",
      "23 day output [[0.68591785]]\n",
      "24 day input [0.90384728 0.89512646 0.88665581 0.87852585 0.8708117  0.8635723\n",
      " 0.85685122 0.85067517 0.84505653 0.83999306 0.8354708  0.83146501\n",
      " 0.82794219 0.8248623  0.82217932 0.81984437 0.81780642 0.81601483\n",
      " 0.81441891 0.81297076 0.81162441 0.81033874 0.80907577 0.80780321\n",
      " 0.80649233 0.80512065 0.80366957 0.80212611 0.80048192 0.79873186\n",
      " 0.79687583 0.79491681 0.79286069 0.79071599 0.7884931  0.78620392\n",
      " 0.7838617  0.78148007 0.77907258 0.77665269 0.77423358 0.77182728\n",
      " 0.7694447  0.76709563 0.76478851 0.76253074 0.76032698 0.75818187\n",
      " 0.75609773 0.75407606 0.7521168  0.75021917 0.7483812  0.74659979\n",
      " 0.74487215 0.74319422 0.74156201 0.73997098 0.73841685 0.73689526\n",
      " 0.73540199 0.73393315 0.73248506 0.73105425 0.7296381  0.72823405\n",
      " 0.7268396  0.7254535  0.72407454 0.72270113 0.72133374 0.71997118\n",
      " 0.71861386 0.71726263 0.71591693 0.71457803 0.71324658 0.71192306\n",
      " 0.71060878 0.70930403 0.70801008 0.70672739 0.70545667 0.70419872\n",
      " 0.70295411 0.7017228  0.70050538 0.69930214 0.69811291 0.6969378\n",
      " 0.69577712 0.69463009 0.69349658 0.69237679 0.69126981 0.69017577\n",
      " 0.68909383 0.68802392 0.68696535 0.68591785]\n",
      "24 day output [[0.6848809]]\n",
      "25 day input [0.89512646 0.88665581 0.87852585 0.8708117  0.8635723  0.85685122\n",
      " 0.85067517 0.84505653 0.83999306 0.8354708  0.83146501 0.82794219\n",
      " 0.8248623  0.82217932 0.81984437 0.81780642 0.81601483 0.81441891\n",
      " 0.81297076 0.81162441 0.81033874 0.80907577 0.80780321 0.80649233\n",
      " 0.80512065 0.80366957 0.80212611 0.80048192 0.79873186 0.79687583\n",
      " 0.79491681 0.79286069 0.79071599 0.7884931  0.78620392 0.7838617\n",
      " 0.78148007 0.77907258 0.77665269 0.77423358 0.77182728 0.7694447\n",
      " 0.76709563 0.76478851 0.76253074 0.76032698 0.75818187 0.75609773\n",
      " 0.75407606 0.7521168  0.75021917 0.7483812  0.74659979 0.74487215\n",
      " 0.74319422 0.74156201 0.73997098 0.73841685 0.73689526 0.73540199\n",
      " 0.73393315 0.73248506 0.73105425 0.7296381  0.72823405 0.7268396\n",
      " 0.7254535  0.72407454 0.72270113 0.72133374 0.71997118 0.71861386\n",
      " 0.71726263 0.71591693 0.71457803 0.71324658 0.71192306 0.71060878\n",
      " 0.70930403 0.70801008 0.70672739 0.70545667 0.70419872 0.70295411\n",
      " 0.7017228  0.70050538 0.69930214 0.69811291 0.6969378  0.69577712\n",
      " 0.69463009 0.69349658 0.69237679 0.69126981 0.69017577 0.68909383\n",
      " 0.68802392 0.68696535 0.68591785 0.68488091]\n",
      "25 day output [[0.68385434]]\n",
      "26 day input [0.88665581 0.87852585 0.8708117  0.8635723  0.85685122 0.85067517\n",
      " 0.84505653 0.83999306 0.8354708  0.83146501 0.82794219 0.8248623\n",
      " 0.82217932 0.81984437 0.81780642 0.81601483 0.81441891 0.81297076\n",
      " 0.81162441 0.81033874 0.80907577 0.80780321 0.80649233 0.80512065\n",
      " 0.80366957 0.80212611 0.80048192 0.79873186 0.79687583 0.79491681\n",
      " 0.79286069 0.79071599 0.7884931  0.78620392 0.7838617  0.78148007\n",
      " 0.77907258 0.77665269 0.77423358 0.77182728 0.7694447  0.76709563\n",
      " 0.76478851 0.76253074 0.76032698 0.75818187 0.75609773 0.75407606\n",
      " 0.7521168  0.75021917 0.7483812  0.74659979 0.74487215 0.74319422\n",
      " 0.74156201 0.73997098 0.73841685 0.73689526 0.73540199 0.73393315\n",
      " 0.73248506 0.73105425 0.7296381  0.72823405 0.7268396  0.7254535\n",
      " 0.72407454 0.72270113 0.72133374 0.71997118 0.71861386 0.71726263\n",
      " 0.71591693 0.71457803 0.71324658 0.71192306 0.71060878 0.70930403\n",
      " 0.70801008 0.70672739 0.70545667 0.70419872 0.70295411 0.7017228\n",
      " 0.70050538 0.69930214 0.69811291 0.6969378  0.69577712 0.69463009\n",
      " 0.69349658 0.69237679 0.69126981 0.69017577 0.68909383 0.68802392\n",
      " 0.68696535 0.68591785 0.68488091 0.68385434]\n",
      "26 day output [[0.6828376]]\n",
      "27 day input [0.87852585 0.8708117  0.8635723  0.85685122 0.85067517 0.84505653\n",
      " 0.83999306 0.8354708  0.83146501 0.82794219 0.8248623  0.82217932\n",
      " 0.81984437 0.81780642 0.81601483 0.81441891 0.81297076 0.81162441\n",
      " 0.81033874 0.80907577 0.80780321 0.80649233 0.80512065 0.80366957\n",
      " 0.80212611 0.80048192 0.79873186 0.79687583 0.79491681 0.79286069\n",
      " 0.79071599 0.7884931  0.78620392 0.7838617  0.78148007 0.77907258\n",
      " 0.77665269 0.77423358 0.77182728 0.7694447  0.76709563 0.76478851\n",
      " 0.76253074 0.76032698 0.75818187 0.75609773 0.75407606 0.7521168\n",
      " 0.75021917 0.7483812  0.74659979 0.74487215 0.74319422 0.74156201\n",
      " 0.73997098 0.73841685 0.73689526 0.73540199 0.73393315 0.73248506\n",
      " 0.73105425 0.7296381  0.72823405 0.7268396  0.7254535  0.72407454\n",
      " 0.72270113 0.72133374 0.71997118 0.71861386 0.71726263 0.71591693\n",
      " 0.71457803 0.71324658 0.71192306 0.71060878 0.70930403 0.70801008\n",
      " 0.70672739 0.70545667 0.70419872 0.70295411 0.7017228  0.70050538\n",
      " 0.69930214 0.69811291 0.6969378  0.69577712 0.69463009 0.69349658\n",
      " 0.69237679 0.69126981 0.69017577 0.68909383 0.68802392 0.68696535\n",
      " 0.68591785 0.68488091 0.68385434 0.68283761]\n",
      "27 day output [[0.6818305]]\n",
      "28 day input [0.8708117  0.8635723  0.85685122 0.85067517 0.84505653 0.83999306\n",
      " 0.8354708  0.83146501 0.82794219 0.8248623  0.82217932 0.81984437\n",
      " 0.81780642 0.81601483 0.81441891 0.81297076 0.81162441 0.81033874\n",
      " 0.80907577 0.80780321 0.80649233 0.80512065 0.80366957 0.80212611\n",
      " 0.80048192 0.79873186 0.79687583 0.79491681 0.79286069 0.79071599\n",
      " 0.7884931  0.78620392 0.7838617  0.78148007 0.77907258 0.77665269\n",
      " 0.77423358 0.77182728 0.7694447  0.76709563 0.76478851 0.76253074\n",
      " 0.76032698 0.75818187 0.75609773 0.75407606 0.7521168  0.75021917\n",
      " 0.7483812  0.74659979 0.74487215 0.74319422 0.74156201 0.73997098\n",
      " 0.73841685 0.73689526 0.73540199 0.73393315 0.73248506 0.73105425\n",
      " 0.7296381  0.72823405 0.7268396  0.7254535  0.72407454 0.72270113\n",
      " 0.72133374 0.71997118 0.71861386 0.71726263 0.71591693 0.71457803\n",
      " 0.71324658 0.71192306 0.71060878 0.70930403 0.70801008 0.70672739\n",
      " 0.70545667 0.70419872 0.70295411 0.7017228  0.70050538 0.69930214\n",
      " 0.69811291 0.6969378  0.69577712 0.69463009 0.69349658 0.69237679\n",
      " 0.69126981 0.69017577 0.68909383 0.68802392 0.68696535 0.68591785\n",
      " 0.68488091 0.68385434 0.68283761 0.68183053]\n",
      "28 day output [[0.6808327]]\n",
      "29 day input [0.8635723  0.85685122 0.85067517 0.84505653 0.83999306 0.8354708\n",
      " 0.83146501 0.82794219 0.8248623  0.82217932 0.81984437 0.81780642\n",
      " 0.81601483 0.81441891 0.81297076 0.81162441 0.81033874 0.80907577\n",
      " 0.80780321 0.80649233 0.80512065 0.80366957 0.80212611 0.80048192\n",
      " 0.79873186 0.79687583 0.79491681 0.79286069 0.79071599 0.7884931\n",
      " 0.78620392 0.7838617  0.78148007 0.77907258 0.77665269 0.77423358\n",
      " 0.77182728 0.7694447  0.76709563 0.76478851 0.76253074 0.76032698\n",
      " 0.75818187 0.75609773 0.75407606 0.7521168  0.75021917 0.7483812\n",
      " 0.74659979 0.74487215 0.74319422 0.74156201 0.73997098 0.73841685\n",
      " 0.73689526 0.73540199 0.73393315 0.73248506 0.73105425 0.7296381\n",
      " 0.72823405 0.7268396  0.7254535  0.72407454 0.72270113 0.72133374\n",
      " 0.71997118 0.71861386 0.71726263 0.71591693 0.71457803 0.71324658\n",
      " 0.71192306 0.71060878 0.70930403 0.70801008 0.70672739 0.70545667\n",
      " 0.70419872 0.70295411 0.7017228  0.70050538 0.69930214 0.69811291\n",
      " 0.6969378  0.69577712 0.69463009 0.69349658 0.69237679 0.69126981\n",
      " 0.69017577 0.68909383 0.68802392 0.68696535 0.68591785 0.68488091\n",
      " 0.68385434 0.68283761 0.68183053 0.68083268]\n",
      "29 day output [[0.6798436]]\n",
      "0.7132465839385986\n"
     ]
    }
   ],
   "source": [
    "# Forecasting prediction for next 10 days\n",
    "\n",
    "lst_output=[]\n",
    "n_steps=100\n",
    "i=0\n",
    "while(i<30):\n",
    "    \n",
    "    if(len(temp_input)>100):\n",
    "        #print(temp_input)\n",
    "        x_input=np.array(temp_input[1:])\n",
    "        print(\"{} day input {}\".format(i,x_input))\n",
    "        x_input=x_input.reshape(1,-1)\n",
    "        x_input = x_input.reshape((1, n_steps, 1))\n",
    "        #print(x_input)\n",
    "        yhat = model.predict(x_input, verbose=0)\n",
    "        print(\"{} day output {}\".format(i,yhat))\n",
    "        temp_input.extend(yhat[0].tolist())\n",
    "        temp_input=temp_input[1:]\n",
    "        #print(temp_input)\n",
    "        lst_output.extend(yhat.tolist())\n",
    "        i=i+1\n",
    "    else:\n",
    "        x_input = x_input.reshape((1, n_steps,1))\n",
    "        yhat = model.predict(x_input, verbose=0)\n",
    "        print(yhat[0])\n",
    "        temp_input.extend(yhat[0].tolist())\n",
    "        print(len(temp_input))\n",
    "        lst_output.extend(yhat.tolist())\n",
    "        i=i+1\n",
    "    \n",
    "\n",
    "print(lst_output)"
   ]
  },
  {
   "cell_type": "code",
   "execution_count": 72,
   "metadata": {},
   "outputs": [],
   "source": [
    "day_new=np.arange(1,101)\n",
    "day_pred=np.arange(101,131)"
   ]
  },
  {
   "cell_type": "code",
   "execution_count": 73,
   "metadata": {},
   "outputs": [
    {
     "data": {
      "text/plain": [
       "1257"
      ]
     },
     "execution_count": 73,
     "metadata": {},
     "output_type": "execute_result"
    }
   ],
   "source": [
    "len(df1)"
   ]
  },
  {
   "cell_type": "code",
   "execution_count": 75,
   "metadata": {},
   "outputs": [
    {
     "data": {
      "text/plain": [
       "[<matplotlib.lines.Line2D at 0x7fceb8e8eb50>]"
      ]
     },
     "execution_count": 75,
     "metadata": {},
     "output_type": "execute_result"
    },
    {
     "data": {
      "image/png": "[encoded data removed]",
      "text/plain": [
       "<Figure size 432x288 with 1 Axes>"
      ]
     },
     "metadata": {
      "needs_background": "light"
     },
     "output_type": "display_data"
    }
   ],
   "source": [
    "plt.plot(day_new,scaler.inverse_transform(df1[1157:]))\n",
    "plt.plot(day_pred,scaler.inverse_transform(lst_output))"
   ]
  },
  {
   "cell_type": "code",
   "execution_count": 76,
   "metadata": {},
   "outputs": [
    {
     "data": {
      "text/plain": [
       "[<matplotlib.lines.Line2D at 0x7fceb85be0d0>]"
      ]
     },
     "execution_count": 76,
     "metadata": {},
     "output_type": "execute_result"
    },
    {
     "data": {
      "image/png": "[encoded data removed]",
      "text/plain": [
       "<Figure size 432x288 with 1 Axes>"
      ]
     },
     "metadata": {
      "needs_background": "light"
     },
     "output_type": "display_data"
    }
   ],
   "source": [
    "df3=df1.tolist()\n",
    "df3.extend(lst_output)\n",
    "plt.plot(df3[1200:])"
   ]
  },
  {
   "cell_type": "code",
   "execution_count": 77,
   "metadata": {},
   "outputs": [],
   "source": [
    "df3=scaler.inverse_transform(df3).tolist()"
   ]
  },
  {
   "cell_type": "code",
   "execution_count": 78,
   "metadata": {},
   "outputs": [
    {
     "data": {
      "text/plain": [
       "[<matplotlib.lines.Line2D at 0x7fceb999e7f0>]"
      ]
     },
     "execution_count": 78,
     "metadata": {},
     "output_type": "execute_result"
    },
    {
     "data": {
      "image/png": "[encoded data removed]",
      "text/plain": [
       "<Figure size 432x288 with 1 Axes>"
      ]
     },
     "metadata": {
      "needs_background": "light"
     },
     "output_type": "display_data"
    }
   ],
   "source": [
    "plt.plot(df3)"
   ]
  }
 ],
 "metadata": {
  "kernelspec": {
   "display_name": "Python 3",
   "language": "python",
   "name": "python3"
  },
  "language_info": {
   "codemirror_mode": {
    "name": "ipython",
    "version": 3
   },
   "file_extension": ".py",
   "mimetype": "text/x-python",
   "name": "python",
   "nbconvert_exporter": "python",
   "pygments_lexer": "ipython3",
   "version": "3.8.3"
  }
 },
 "nbformat": 4,
 "nbformat_minor": 2
}
